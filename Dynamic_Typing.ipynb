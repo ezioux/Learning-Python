{
  "nbformat": 4,
  "nbformat_minor": 0,
  "metadata": {
    "colab": {
      "name": "Dynamic Typing.ipynb",
      "provenance": [],
      "authorship_tag": "ABX9TyP8tAMASL6WNtTl0YUyAqxB",
      "include_colab_link": true
    },
    "kernelspec": {
      "name": "python3",
      "display_name": "Python 3"
    }
  },
  "cells": [
    {
      "cell_type": "markdown",
      "metadata": {
        "id": "view-in-github",
        "colab_type": "text"
      },
      "source": [
        "<a href=\"https://colab.research.google.com/github/ezioux/Learning-Python/blob/Dynamic-Typing/Dynamic_Typing.ipynb\" target=\"_parent\"><img src=\"https://colab.research.google.com/assets/colab-badge.svg\" alt=\"Open In Colab\"/></a>"
      ]
    },
    {
      "cell_type": "code",
      "metadata": {
        "id": "iLhYWLvpl5j6",
        "colab_type": "code",
        "colab": {
          "base_uri": "https://localhost:8080/",
          "height": 51
        },
        "outputId": "e6a51a8a-27d0-4876-bada-e2bdd5a31b78"
      },
      "source": [
        "x = 6\n",
        "print(type(x))\n",
        "x = 'hello'\n",
        "print(type(x))"
      ],
      "execution_count": 1,
      "outputs": [
        {
          "output_type": "stream",
          "text": [
            "<class 'int'>\n",
            "<class 'str'>\n"
          ],
          "name": "stdout"
        }
      ]
    },
    {
      "cell_type": "code",
      "metadata": {
        "id": "pFzbzMO_2p3J",
        "colab_type": "code",
        "colab": {
          "base_uri": "https://localhost:8080/",
          "height": 197
        },
        "outputId": "2c6304a4-37b5-4dd6-e754-ba602bc2dcb1"
      },
      "source": [
        "if False:\n",
        "    1 + \"two\"  # This line never runs, so no TypeError is raised\n",
        "else:\n",
        "    1 + 2\n",
        "\n",
        "1 + \"two\"\n",
        "# Salah karena tidak dapat menggabungkan integer dan string "
      ],
      "execution_count": 5,
      "outputs": [
        {
          "output_type": "error",
          "ename": "TypeError",
          "evalue": "ignored",
          "traceback": [
            "\u001b[0;31m---------------------------------------------------------------------------\u001b[0m",
            "\u001b[0;31mTypeError\u001b[0m                                 Traceback (most recent call last)",
            "\u001b[0;32m<ipython-input-5-03e630d4e868>\u001b[0m in \u001b[0;36m<module>\u001b[0;34m()\u001b[0m\n\u001b[1;32m      4\u001b[0m     \u001b[0;36m1\u001b[0m \u001b[0;34m+\u001b[0m \u001b[0;36m2\u001b[0m\u001b[0;34m\u001b[0m\u001b[0;34m\u001b[0m\u001b[0m\n\u001b[1;32m      5\u001b[0m \u001b[0;34m\u001b[0m\u001b[0m\n\u001b[0;32m----> 6\u001b[0;31m \u001b[0;36m1\u001b[0m \u001b[0;34m+\u001b[0m \u001b[0;34m\"two\"\u001b[0m\u001b[0;34m\u001b[0m\u001b[0;34m\u001b[0m\u001b[0m\n\u001b[0m",
            "\u001b[0;31mTypeError\u001b[0m: unsupported operand type(s) for +: 'int' and 'str'"
          ]
        }
      ]
    },
    {
      "cell_type": "code",
      "metadata": {
        "id": "zCNwuyM63I3N",
        "colab_type": "code",
        "colab": {
          "base_uri": "https://localhost:8080/",
          "height": 34
        },
        "outputId": "eb15cab8-f5a7-43d7-f9bc-bc0ff5e995e1"
      },
      "source": [
        "thing = \"Hello\"\n",
        "type(thing)\n",
        "# Menemukan class thing (yaitu berupa string)"
      ],
      "execution_count": 6,
      "outputs": [
        {
          "output_type": "execute_result",
          "data": {
            "text/plain": [
              "str"
            ]
          },
          "metadata": {
            "tags": []
          },
          "execution_count": 6
        }
      ]
    },
    {
      "cell_type": "code",
      "metadata": {
        "id": "itH6aZWe3Zwr",
        "colab_type": "code",
        "colab": {
          "base_uri": "https://localhost:8080/",
          "height": 34
        },
        "outputId": "8ec09e3e-6c37-4b36-99ed-25b4737c8516"
      },
      "source": [
        "thing = 28.1\n",
        "type(thing)\n",
        "# Menemukan class thing (yaitu berupa float)\n",
        "# () digunakan untuk mengidentifikasi tipe variabel"
      ],
      "execution_count": 7,
      "outputs": [
        {
          "output_type": "execute_result",
          "data": {
            "text/plain": [
              "float"
            ]
          },
          "metadata": {
            "tags": []
          },
          "execution_count": 7
        }
      ]
    },
    {
      "cell_type": "markdown",
      "metadata": {
        "id": "EQu2ZzGp4iZt",
        "colab_type": "text"
      },
      "source": [
        "# **Duck Typing**\n",
        "\n",
        "Konsep, tipe atau kelas objek tidak lebih penting daripada **metode** perilakunya.\n",
        "\n",
        "Developer tidak perlu mencemaskan tipe atau kelas objek, karena lebih penting operasinya.\n",
        "\n",
        "Untuk memeriksa tipe objek, developer cukup memastikan metode/fungsi/behavior objek.\n",
        "\n",
        "Contoh fungsi len() untuk mengetahui panjang string yang tidak berlaku pada variabel numerik."
      ]
    },
    {
      "cell_type": "code",
      "metadata": {
        "id": "OJM-Lxf15L9V",
        "colab_type": "code",
        "colab": {
          "base_uri": "https://localhost:8080/",
          "height": 180
        },
        "outputId": "3056e439-5cee-47b9-825b-5d353a094632"
      },
      "source": [
        "x=333\n",
        "len(x)\n",
        "# fungsi len() untuk mengetahui panjang string \n",
        "# tidak berlaku pada variabel numerik."
      ],
      "execution_count": 8,
      "outputs": [
        {
          "output_type": "error",
          "ename": "TypeError",
          "evalue": "ignored",
          "traceback": [
            "\u001b[0;31m---------------------------------------------------------------------------\u001b[0m",
            "\u001b[0;31mTypeError\u001b[0m                                 Traceback (most recent call last)",
            "\u001b[0;32m<ipython-input-8-dda8e24ea2ae>\u001b[0m in \u001b[0;36m<module>\u001b[0;34m()\u001b[0m\n\u001b[1;32m      1\u001b[0m \u001b[0mx\u001b[0m\u001b[0;34m=\u001b[0m\u001b[0;36m333\u001b[0m\u001b[0;34m\u001b[0m\u001b[0;34m\u001b[0m\u001b[0m\n\u001b[0;32m----> 2\u001b[0;31m \u001b[0mlen\u001b[0m\u001b[0;34m(\u001b[0m\u001b[0mx\u001b[0m\u001b[0;34m)\u001b[0m\u001b[0;34m\u001b[0m\u001b[0;34m\u001b[0m\u001b[0m\n\u001b[0m",
            "\u001b[0;31mTypeError\u001b[0m: object of type 'int' has no len()"
          ]
        }
      ]
    }
  ]
}