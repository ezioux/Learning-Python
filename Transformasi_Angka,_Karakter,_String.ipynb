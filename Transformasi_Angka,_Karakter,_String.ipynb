{
  "nbformat": 4,
  "nbformat_minor": 0,
  "metadata": {
    "colab": {
      "name": "Transformasi Angka, Karakter, String.ipynb",
      "provenance": [],
      "authorship_tag": "ABX9TyOql+bRVac2VNGw58yGontU",
      "include_colab_link": true
    },
    "kernelspec": {
      "name": "python3",
      "display_name": "Python 3"
    }
  },
  "cells": [
    {
      "cell_type": "markdown",
      "metadata": {
        "id": "view-in-github",
        "colab_type": "text"
      },
      "source": [
        "<a href=\"https://colab.research.google.com/github/ezioux/Learning-Python/blob/Transformasi-Angka%2C-Karakter%2C-String/Transformasi_Angka%2C_Karakter%2C_String.ipynb\" target=\"_parent\"><img src=\"https://colab.research.google.com/assets/colab-badge.svg\" alt=\"Open In Colab\"/></a>"
      ]
    },
    {
      "cell_type": "code",
      "metadata": {
        "id": "UidE-iKb509Z",
        "colab_type": "code",
        "colab": {}
      },
      "source": [
        ""
      ],
      "execution_count": null,
      "outputs": []
    },
    {
      "cell_type": "markdown",
      "metadata": {
        "id": "VaFvehQ17Wh2",
        "colab_type": "text"
      },
      "source": [
        "# **Transformasi Angka: menambahkan 0**"
      ]
    },
    {
      "cell_type": "code",
      "metadata": {
        "id": "AtGL-15e7rDj",
        "colab_type": "code",
        "colab": {
          "base_uri": "https://localhost:8080/",
          "height": 34
        },
        "outputId": "394958f6-9d81-4ce2-cdc3-8ddd535ebb64"
      },
      "source": [
        "# Angka 0 harus dibantu fungsi zfill()\n",
        "# Supaya bisa ditambah, angka harus dikonversi ke string terlebih dahulu\n",
        "\n",
        "x=1\n",
        "type(x)"
      ],
      "execution_count": 2,
      "outputs": [
        {
          "output_type": "execute_result",
          "data": {
            "text/plain": [
              "int"
            ]
          },
          "metadata": {
            "tags": []
          },
          "execution_count": 2
        }
      ]
    },
    {
      "cell_type": "code",
      "metadata": {
        "id": "PI4oqGSn78Tt",
        "colab_type": "code",
        "colab": {
          "base_uri": "https://localhost:8080/",
          "height": 34
        },
        "outputId": "a197e665-4615-4f63-c00f-2a76ea41c062"
      },
      "source": [
        "str(x).zfill(5)\n",
        "\n",
        "# Angka menjadi urutan desimal terakhir\n",
        "# Misalnya .zfill(5) atrinya 00001, maka 1 menjadi angka kelima "
      ],
      "execution_count": 3,
      "outputs": [
        {
          "output_type": "execute_result",
          "data": {
            "text/plain": [
              "'00001'"
            ]
          },
          "metadata": {
            "tags": []
          },
          "execution_count": 3
        }
      ]
    },
    {
      "cell_type": "markdown",
      "metadata": {
        "id": "gIeGSPvT8cXM",
        "colab_type": "text"
      },
      "source": [
        "# **Transformasi Karakter dan String:**\n",
        "# upper() dan lower() - string & karakter"
      ]
    },
    {
      "cell_type": "code",
      "metadata": {
        "id": "uluqJpJf8sE9",
        "colab_type": "code",
        "colab": {
          "base_uri": "https://localhost:8080/",
          "height": 34
        },
        "outputId": "6bbfe925-2088-4315-b175-176352cadf38"
      },
      "source": [
        "# Upper() dan lower() mengkonversi karakter menjadi\n",
        "# kapital dengan upper()\n",
        "# huruf kecil dengan lower()\n",
        "# jika ada karakter non huruf yang tidak bisa menjadi kapital, \n",
        "# kode tidak akan berubah\n",
        "\n",
        "p = 'Hello, world!'\n",
        "p = p.upper()\n",
        "p"
      ],
      "execution_count": 4,
      "outputs": [
        {
          "output_type": "execute_result",
          "data": {
            "text/plain": [
              "'HELLO, WORLD!'"
            ]
          },
          "metadata": {
            "tags": []
          },
          "execution_count": 4
        }
      ]
    },
    {
      "cell_type": "code",
      "metadata": {
        "id": "vkkZqpD99KXs",
        "colab_type": "code",
        "colab": {
          "base_uri": "https://localhost:8080/",
          "height": 34
        },
        "outputId": "c59fd0a3-ca02-4b86-ff42-2d73ebc84fb8"
      },
      "source": [
        "p = p.lower()\n",
        "p"
      ],
      "execution_count": 5,
      "outputs": [
        {
          "output_type": "execute_result",
          "data": {
            "text/plain": [
              "'hello, world!'"
            ]
          },
          "metadata": {
            "tags": []
          },
          "execution_count": 5
        }
      ]
    },
    {
      "cell_type": "code",
      "metadata": {
        "id": "me41w0dU9RKe",
        "colab_type": "code",
        "colab": {
          "base_uri": "https://localhost:8080/",
          "height": 51
        },
        "outputId": "1f1cd6c8-498a-43d6-b17d-a892caa66ff2"
      },
      "source": [
        "feeling = input('How are you?')\n",
        "if feeling.lower() == 'great':\n",
        "    print('I feel great too.')\n",
        "else:\n",
        "    print('I hope the rest of your day is good')"
      ],
      "execution_count": 7,
      "outputs": [
        {
          "output_type": "stream",
          "text": [
            "How are you?ok\n",
            "I hope the rest of your day is good\n"
          ],
          "name": "stdout"
        }
      ]
    },
    {
      "cell_type": "markdown",
      "metadata": {
        "id": "NPreuAZz9wWT",
        "colab_type": "text"
      },
      "source": [
        "# isupper() dan islower()\n",
        "\n",
        "mengembalikan nilai boolean jika string memiliki satu karakter an seluruhnya kapital atau selurunya huruf kecil\n",
        "\n",
        "jika syarat tidak terpenuhi, fungsi akan mengembalikan nilai false."
      ]
    },
    {
      "cell_type": "code",
      "metadata": {
        "id": "fJ1lj-_s91KF",
        "colab_type": "code",
        "colab": {
          "base_uri": "https://localhost:8080/",
          "height": 34
        },
        "outputId": "2effe681-9caa-42df-e5d3-075171acf16d"
      },
      "source": [
        "p = 'Hello world!'\n",
        "p.islower()\n",
        "\n",
        "# Salah karena tidak seluruhnya huruf  kecil"
      ],
      "execution_count": 8,
      "outputs": [
        {
          "output_type": "execute_result",
          "data": {
            "text/plain": [
              "False"
            ]
          },
          "metadata": {
            "tags": []
          },
          "execution_count": 8
        }
      ]
    },
    {
      "cell_type": "code",
      "metadata": {
        "id": "fY-Wj4Y09-ID",
        "colab_type": "code",
        "colab": {
          "base_uri": "https://localhost:8080/",
          "height": 34
        },
        "outputId": "283af3c1-4753-461a-a0ed-5e7905c7349e"
      },
      "source": [
        "p.isupper()\n",
        "\n",
        "# Salah karena tidak seluruhnya huruf kapital"
      ],
      "execution_count": 9,
      "outputs": [
        {
          "output_type": "execute_result",
          "data": {
            "text/plain": [
              "False"
            ]
          },
          "metadata": {
            "tags": []
          },
          "execution_count": 9
        }
      ]
    },
    {
      "cell_type": "code",
      "metadata": {
        "id": "-biEHqDn-D7l",
        "colab_type": "code",
        "colab": {
          "base_uri": "https://localhost:8080/",
          "height": 34
        },
        "outputId": "b19e0151-3d51-4f4f-bdd6-dfdf3df918da"
      },
      "source": [
        "'HELLO'.isupper()\n",
        "\n",
        "# benar karena seluruhnya huruf kapital"
      ],
      "execution_count": 10,
      "outputs": [
        {
          "output_type": "execute_result",
          "data": {
            "text/plain": [
              "True"
            ]
          },
          "metadata": {
            "tags": []
          },
          "execution_count": 10
        }
      ]
    },
    {
      "cell_type": "code",
      "metadata": {
        "id": "lztCCGxn-K77",
        "colab_type": "code",
        "colab": {
          "base_uri": "https://localhost:8080/",
          "height": 34
        },
        "outputId": "f59b91ff-9992-4a02-c759-70da374d282f"
      },
      "source": [
        "'abc12345'.islower()\n",
        "\n",
        "# benar karena seluruhnya huruf kecil dan karakter"
      ],
      "execution_count": 11,
      "outputs": [
        {
          "output_type": "execute_result",
          "data": {
            "text/plain": [
              "True"
            ]
          },
          "metadata": {
            "tags": []
          },
          "execution_count": 11
        }
      ]
    },
    {
      "cell_type": "code",
      "metadata": {
        "id": "QYZLkRB_-QVd",
        "colab_type": "code",
        "colab": {
          "base_uri": "https://localhost:8080/",
          "height": 34
        },
        "outputId": "8a7af6bb-3dcf-42ff-827e-17a177371e8e"
      },
      "source": [
        "'12345'.isupper()\n",
        "\n",
        "# salah karena karakter dan tidak ada opsi kapital"
      ],
      "execution_count": 12,
      "outputs": [
        {
          "output_type": "execute_result",
          "data": {
            "text/plain": [
              "False"
            ]
          },
          "metadata": {
            "tags": []
          },
          "execution_count": 12
        }
      ]
    },
    {
      "cell_type": "code",
      "metadata": {
        "id": "TowcPLq7_QAx",
        "colab_type": "code",
        "colab": {
          "base_uri": "https://localhost:8080/",
          "height": 102
        },
        "outputId": "75d67caf-f34e-410b-a60c-118d4f91aa57"
      },
      "source": [
        "print('Hello'.upper())\n",
        "print('Hello'.upper().lower())\n",
        "print('Hello'. upper().lower().upper())\n",
        "print('HELLO'.lower())\n",
        "print('HELLO'.lower().islower())\n",
        "\n",
        "# fungsi upper() dan lower() mengembalikan string sehingga\n",
        "# dapat melakukan operasi pada hasil operasinya"
      ],
      "execution_count": 14,
      "outputs": [
        {
          "output_type": "stream",
          "text": [
            "HELLO\n",
            "hello\n",
            "HELLO\n",
            "hello\n",
            "True\n"
          ],
          "name": "stdout"
        }
      ]
    }
  ]
}