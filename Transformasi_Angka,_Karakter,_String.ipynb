{
  "nbformat": 4,
  "nbformat_minor": 0,
  "metadata": {
    "colab": {
      "name": "Transformasi Angka, Karakter, String.ipynb",
      "provenance": [],
      "authorship_tag": "ABX9TyNPRwWs6HXAk19CQjAf+FPL",
      "include_colab_link": true
    },
    "kernelspec": {
      "name": "python3",
      "display_name": "Python 3"
    }
  },
  "cells": [
    {
      "cell_type": "markdown",
      "metadata": {
        "id": "view-in-github",
        "colab_type": "text"
      },
      "source": [
        "<a href=\"https://colab.research.google.com/github/ezioux/Learning-Python/blob/Transformasi-Angka%2C-Karakter%2C-String/Transformasi_Angka%2C_Karakter%2C_String.ipynb\" target=\"_parent\"><img src=\"https://colab.research.google.com/assets/colab-badge.svg\" alt=\"Open In Colab\"/></a>"
      ]
    },
    {
      "cell_type": "code",
      "metadata": {
        "id": "UidE-iKb509Z",
        "colab_type": "code",
        "colab": {}
      },
      "source": [
        ""
      ],
      "execution_count": null,
      "outputs": []
    },
    {
      "cell_type": "markdown",
      "metadata": {
        "id": "VaFvehQ17Wh2",
        "colab_type": "text"
      },
      "source": [
        "# **Transformasi Angka: menambahkan 0**"
      ]
    },
    {
      "cell_type": "code",
      "metadata": {
        "id": "AtGL-15e7rDj",
        "colab_type": "code",
        "colab": {
          "base_uri": "https://localhost:8080/",
          "height": 34
        },
        "outputId": "394958f6-9d81-4ce2-cdc3-8ddd535ebb64"
      },
      "source": [
        "# Angka 0 harus dibantu fungsi zfill()\n",
        "# Supaya bisa ditambah, angka harus dikonversi ke string terlebih dahulu\n",
        "\n",
        "x=1\n",
        "type(x)"
      ],
      "execution_count": null,
      "outputs": [
        {
          "output_type": "execute_result",
          "data": {
            "text/plain": [
              "int"
            ]
          },
          "metadata": {
            "tags": []
          },
          "execution_count": 2
        }
      ]
    },
    {
      "cell_type": "code",
      "metadata": {
        "id": "PI4oqGSn78Tt",
        "colab_type": "code",
        "colab": {
          "base_uri": "https://localhost:8080/",
          "height": 34
        },
        "outputId": "a197e665-4615-4f63-c00f-2a76ea41c062"
      },
      "source": [
        "str(x).zfill(5)\n",
        "\n",
        "# Angka menjadi urutan desimal terakhir\n",
        "# Misalnya .zfill(5) atrinya 00001, maka 1 menjadi angka kelima "
      ],
      "execution_count": null,
      "outputs": [
        {
          "output_type": "execute_result",
          "data": {
            "text/plain": [
              "'00001'"
            ]
          },
          "metadata": {
            "tags": []
          },
          "execution_count": 3
        }
      ]
    },
    {
      "cell_type": "markdown",
      "metadata": {
        "id": "gIeGSPvT8cXM",
        "colab_type": "text"
      },
      "source": [
        "# **Transformasi Karakter dan String:**\n",
        "# upper() dan lower() - string & karakter"
      ]
    },
    {
      "cell_type": "code",
      "metadata": {
        "id": "uluqJpJf8sE9",
        "colab_type": "code",
        "colab": {
          "base_uri": "https://localhost:8080/",
          "height": 34
        },
        "outputId": "6bbfe925-2088-4315-b175-176352cadf38"
      },
      "source": [
        "# Upper() dan lower() mengkonversi karakter menjadi\n",
        "# kapital dengan upper()\n",
        "# huruf kecil dengan lower()\n",
        "# jika ada karakter non huruf yang tidak bisa menjadi kapital, \n",
        "# kode tidak akan berubah\n",
        "\n",
        "p = 'Hello, world!'\n",
        "p = p.upper()\n",
        "p"
      ],
      "execution_count": null,
      "outputs": [
        {
          "output_type": "execute_result",
          "data": {
            "text/plain": [
              "'HELLO, WORLD!'"
            ]
          },
          "metadata": {
            "tags": []
          },
          "execution_count": 4
        }
      ]
    },
    {
      "cell_type": "code",
      "metadata": {
        "id": "vkkZqpD99KXs",
        "colab_type": "code",
        "colab": {
          "base_uri": "https://localhost:8080/",
          "height": 34
        },
        "outputId": "c59fd0a3-ca02-4b86-ff42-2d73ebc84fb8"
      },
      "source": [
        "p = p.lower()\n",
        "p"
      ],
      "execution_count": null,
      "outputs": [
        {
          "output_type": "execute_result",
          "data": {
            "text/plain": [
              "'hello, world!'"
            ]
          },
          "metadata": {
            "tags": []
          },
          "execution_count": 5
        }
      ]
    },
    {
      "cell_type": "code",
      "metadata": {
        "id": "me41w0dU9RKe",
        "colab_type": "code",
        "colab": {
          "base_uri": "https://localhost:8080/",
          "height": 51
        },
        "outputId": "1f1cd6c8-498a-43d6-b17d-a892caa66ff2"
      },
      "source": [
        "feeling = input('How are you?')\n",
        "if feeling.lower() == 'great':\n",
        "    print('I feel great too.')\n",
        "else:\n",
        "    print('I hope the rest of your day is good')"
      ],
      "execution_count": null,
      "outputs": [
        {
          "output_type": "stream",
          "text": [
            "How are you?ok\n",
            "I hope the rest of your day is good\n"
          ],
          "name": "stdout"
        }
      ]
    },
    {
      "cell_type": "markdown",
      "metadata": {
        "id": "NPreuAZz9wWT",
        "colab_type": "text"
      },
      "source": [
        "# isupper() dan islower()\n",
        "**Untuk mengecek string**\n",
        "\n",
        "mengembalikan nilai boolean jika string memiliki satu karakter an seluruhnya kapital atau selurunya huruf kecil\n",
        "\n",
        "jika syarat tidak terpenuhi, fungsi akan mengembalikan nilai false."
      ]
    },
    {
      "cell_type": "code",
      "metadata": {
        "id": "fJ1lj-_s91KF",
        "colab_type": "code",
        "colab": {
          "base_uri": "https://localhost:8080/",
          "height": 34
        },
        "outputId": "2effe681-9caa-42df-e5d3-075171acf16d"
      },
      "source": [
        "p = 'Hello world!'\n",
        "p.islower()\n",
        "\n",
        "# Salah karena tidak seluruhnya huruf  kecil"
      ],
      "execution_count": null,
      "outputs": [
        {
          "output_type": "execute_result",
          "data": {
            "text/plain": [
              "False"
            ]
          },
          "metadata": {
            "tags": []
          },
          "execution_count": 8
        }
      ]
    },
    {
      "cell_type": "code",
      "metadata": {
        "id": "fY-Wj4Y09-ID",
        "colab_type": "code",
        "colab": {
          "base_uri": "https://localhost:8080/",
          "height": 34
        },
        "outputId": "283af3c1-4753-461a-a0ed-5e7905c7349e"
      },
      "source": [
        "p.isupper()\n",
        "\n",
        "# Salah karena tidak seluruhnya huruf kapital"
      ],
      "execution_count": null,
      "outputs": [
        {
          "output_type": "execute_result",
          "data": {
            "text/plain": [
              "False"
            ]
          },
          "metadata": {
            "tags": []
          },
          "execution_count": 9
        }
      ]
    },
    {
      "cell_type": "code",
      "metadata": {
        "id": "-biEHqDn-D7l",
        "colab_type": "code",
        "colab": {
          "base_uri": "https://localhost:8080/",
          "height": 34
        },
        "outputId": "b19e0151-3d51-4f4f-bdd6-dfdf3df918da"
      },
      "source": [
        "'HELLO'.isupper()\n",
        "\n",
        "# benar karena seluruhnya huruf kapital"
      ],
      "execution_count": null,
      "outputs": [
        {
          "output_type": "execute_result",
          "data": {
            "text/plain": [
              "True"
            ]
          },
          "metadata": {
            "tags": []
          },
          "execution_count": 10
        }
      ]
    },
    {
      "cell_type": "code",
      "metadata": {
        "id": "lztCCGxn-K77",
        "colab_type": "code",
        "colab": {
          "base_uri": "https://localhost:8080/",
          "height": 34
        },
        "outputId": "f59b91ff-9992-4a02-c759-70da374d282f"
      },
      "source": [
        "'abc12345'.islower()\n",
        "\n",
        "# benar karena seluruhnya huruf kecil dan karakter"
      ],
      "execution_count": null,
      "outputs": [
        {
          "output_type": "execute_result",
          "data": {
            "text/plain": [
              "True"
            ]
          },
          "metadata": {
            "tags": []
          },
          "execution_count": 11
        }
      ]
    },
    {
      "cell_type": "code",
      "metadata": {
        "id": "QYZLkRB_-QVd",
        "colab_type": "code",
        "colab": {
          "base_uri": "https://localhost:8080/",
          "height": 34
        },
        "outputId": "8a7af6bb-3dcf-42ff-827e-17a177371e8e"
      },
      "source": [
        "'12345'.isupper()\n",
        "\n",
        "# salah karena karakter dan tidak ada opsi kapital"
      ],
      "execution_count": null,
      "outputs": [
        {
          "output_type": "execute_result",
          "data": {
            "text/plain": [
              "False"
            ]
          },
          "metadata": {
            "tags": []
          },
          "execution_count": 12
        }
      ]
    },
    {
      "cell_type": "code",
      "metadata": {
        "id": "TowcPLq7_QAx",
        "colab_type": "code",
        "colab": {
          "base_uri": "https://localhost:8080/",
          "height": 102
        },
        "outputId": "75d67caf-f34e-410b-a60c-118d4f91aa57"
      },
      "source": [
        "print('Hello'.upper())\n",
        "print('Hello'.upper().lower())\n",
        "print('Hello'. upper().lower().upper())\n",
        "print('HELLO'.lower())\n",
        "print('HELLO'.lower().islower())\n",
        "\n",
        "# fungsi upper() dan lower() mengembalikan string sehingga\n",
        "# dapat melakukan operasi pada hasil operasinya"
      ],
      "execution_count": null,
      "outputs": [
        {
          "output_type": "stream",
          "text": [
            "HELLO\n",
            "hello\n",
            "HELLO\n",
            "hello\n",
            "True\n"
          ],
          "name": "stdout"
        }
      ]
    },
    {
      "cell_type": "markdown",
      "metadata": {
        "id": "gn6BaOZxN8Yz",
        "colab_type": "text"
      },
      "source": [
        "# **Metode isX untuk mengecek string**"
      ]
    },
    {
      "cell_type": "code",
      "metadata": {
        "id": "AXyfUMLROAq8",
        "colab_type": "code",
        "colab": {
          "base_uri": "https://localhost:8080/",
          "height": 34
        },
        "outputId": "0a82ef7a-3743-467d-85a8-b6096c5651e4"
      },
      "source": [
        "'hello'.isalpha()\n",
        "\n",
        "# isalpha() untuk mengecek jika string berisi alphabet"
      ],
      "execution_count": null,
      "outputs": [
        {
          "output_type": "execute_result",
          "data": {
            "text/plain": [
              "True"
            ]
          },
          "metadata": {
            "tags": []
          },
          "execution_count": 2
        }
      ]
    },
    {
      "cell_type": "code",
      "metadata": {
        "id": "1e1VGnRwObDa",
        "colab_type": "code",
        "colab": {
          "base_uri": "https://localhost:8080/",
          "height": 34
        },
        "outputId": "9fe1ea4a-bff3-4d6c-cb63-324173f11224"
      },
      "source": [
        "'hello123'.isalpha()\n",
        "\n",
        "# salah karena hanya berisi alphabet"
      ],
      "execution_count": null,
      "outputs": [
        {
          "output_type": "execute_result",
          "data": {
            "text/plain": [
              "False"
            ]
          },
          "metadata": {
            "tags": []
          },
          "execution_count": 3
        }
      ]
    },
    {
      "cell_type": "code",
      "metadata": {
        "id": "nCq6nnItOjPO",
        "colab_type": "code",
        "colab": {
          "base_uri": "https://localhost:8080/",
          "height": 34
        },
        "outputId": "937cc222-3332-421c-b28e-7af2c64a79e0"
      },
      "source": [
        "'hello123'.isalnum()\n",
        "\n",
        "# isalnum() untuk mengecek jika string berisi alphabet dan number"
      ],
      "execution_count": null,
      "outputs": [
        {
          "output_type": "execute_result",
          "data": {
            "text/plain": [
              "True"
            ]
          },
          "metadata": {
            "tags": []
          },
          "execution_count": 4
        }
      ]
    },
    {
      "cell_type": "code",
      "metadata": {
        "id": "UhGTmfRoOtBU",
        "colab_type": "code",
        "colab": {
          "base_uri": "https://localhost:8080/",
          "height": 34
        },
        "outputId": "a5831ee2-f6ed-450a-fcbf-dc31a45d824c"
      },
      "source": [
        "'hello'.isalnum()\n",
        "\n",
        "# isalnum berlaku untuk string berisi alphabet saja juga"
      ],
      "execution_count": null,
      "outputs": [
        {
          "output_type": "execute_result",
          "data": {
            "text/plain": [
              "True"
            ]
          },
          "metadata": {
            "tags": []
          },
          "execution_count": 6
        }
      ]
    },
    {
      "cell_type": "code",
      "metadata": {
        "id": "RJUhAz3kO9uG",
        "colab_type": "code",
        "colab": {
          "base_uri": "https://localhost:8080/",
          "height": 34
        },
        "outputId": "4e1283ea-520e-4b30-e3f2-65a5e6e80146"
      },
      "source": [
        "'123'.isalnum()\n",
        "\n",
        "# islanum berlaku juga untuk string berisi number saja"
      ],
      "execution_count": null,
      "outputs": [
        {
          "output_type": "execute_result",
          "data": {
            "text/plain": [
              "True"
            ]
          },
          "metadata": {
            "tags": []
          },
          "execution_count": 7
        }
      ]
    },
    {
      "cell_type": "code",
      "metadata": {
        "id": "lTNmjQw7PF--",
        "colab_type": "code",
        "colab": {
          "base_uri": "https://localhost:8080/",
          "height": 34
        },
        "outputId": "2afa41c8-f336-4aeb-c9ee-577a0e1763ee"
      },
      "source": [
        "'123'.isdecimal()\n",
        "\n",
        "# isdecimal() untuk mengecek string yang berisi angka saja"
      ],
      "execution_count": null,
      "outputs": [
        {
          "output_type": "execute_result",
          "data": {
            "text/plain": [
              "True"
            ]
          },
          "metadata": {
            "tags": []
          },
          "execution_count": 8
        }
      ]
    },
    {
      "cell_type": "code",
      "metadata": {
        "id": "1XUgOn0wPQBJ",
        "colab_type": "code",
        "colab": {
          "base_uri": "https://localhost:8080/",
          "height": 34
        },
        "outputId": "eca24af8-9b27-4b69-ad45-ef6d81714f02"
      },
      "source": [
        "'    '.isspace()\n",
        "\n",
        "# isspace() untuk mengecek string yang berisi jarak atau white space saja"
      ],
      "execution_count": null,
      "outputs": [
        {
          "output_type": "execute_result",
          "data": {
            "text/plain": [
              "True"
            ]
          },
          "metadata": {
            "tags": []
          },
          "execution_count": 9
        }
      ]
    },
    {
      "cell_type": "code",
      "metadata": {
        "id": "VbjHQNbGPYhg",
        "colab_type": "code",
        "colab": {
          "base_uri": "https://localhost:8080/",
          "height": 34
        },
        "outputId": "bc9a8bd9-8e01-4d8f-9249-6b0f6a169e31"
      },
      "source": [
        "'This Is Title Case 123'.istitle()\n",
        "\n",
        "# istitle() untuk mengecek jika input judul terdiri dari huruf kecil dan besar"
      ],
      "execution_count": null,
      "outputs": [
        {
          "output_type": "execute_result",
          "data": {
            "text/plain": [
              "True"
            ]
          },
          "metadata": {
            "tags": []
          },
          "execution_count": 10
        }
      ]
    },
    {
      "cell_type": "code",
      "metadata": {
        "id": "RwdgqktgPmL8",
        "colab_type": "code",
        "colab": {
          "base_uri": "https://localhost:8080/",
          "height": 34
        },
        "outputId": "3161638d-9214-45d8-e97c-04b1f5c13c3d"
      },
      "source": [
        "'This Is not Title Case'.istitle()\n",
        "\n",
        "# fungsi salah karena ada anggota string yang tidak memakai huruf besar dan kecil\n",
        "# sehingga tidak terdeteksi sebagai tite"
      ],
      "execution_count": null,
      "outputs": [
        {
          "output_type": "execute_result",
          "data": {
            "text/plain": [
              "False"
            ]
          },
          "metadata": {
            "tags": []
          },
          "execution_count": 12
        }
      ]
    },
    {
      "cell_type": "code",
      "metadata": {
        "id": "nusEGqjmPutz",
        "colab_type": "code",
        "colab": {}
      },
      "source": [
        ""
      ],
      "execution_count": null,
      "outputs": []
    },
    {
      "cell_type": "code",
      "metadata": {
        "id": "-yXujGAKPz93",
        "colab_type": "code",
        "colab": {
          "base_uri": "https://localhost:8080/",
          "height": 34
        },
        "outputId": "79d2fa77-d8e2-47ac-c25c-42314837cda5"
      },
      "source": [
        "'This Is NOT Title Case Either'.istitle()\n",
        "\n",
        "# fungsi salah karena ada anggota string yang memakai huruf kapital semua"
      ],
      "execution_count": null,
      "outputs": [
        {
          "output_type": "execute_result",
          "data": {
            "text/plain": [
              "False"
            ]
          },
          "metadata": {
            "tags": []
          },
          "execution_count": 13
        }
      ]
    },
    {
      "cell_type": "code",
      "metadata": {
        "id": "qvMRdsjERN-Q",
        "colab_type": "code",
        "colab": {
          "base_uri": "https://localhost:8080/",
          "height": 136
        },
        "outputId": "e9aa351c-7759-4037-bdfc-cf67e1bdfd32"
      },
      "source": [
        "while True:\n",
        "     print('Enter your age:')\n",
        "     age = input()\n",
        "     if age.isdecimal() :\n",
        "         break\n",
        "     print('Please enter a number for your age.')\n",
        "while True:\n",
        "     print('Select a new password (letters and numbers only):')\n",
        "     password = input()\n",
        "     if password.isalnum() :\n",
        "        break\n",
        "     print('Passwords can only have letters and numbers,')\n",
        "\n",
        "# isdecimal() dan isalnum() digunakan untuk menyingkat waktu \n",
        "# dalam melakukan validasi input user"
      ],
      "execution_count": null,
      "outputs": [
        {
          "output_type": "stream",
          "text": [
            "Enter your age:\n",
            "twenty\n",
            "Please enter a number for your age.\n",
            "Enter your age:\n",
            "25\n",
            "Select a new password (letters and numbers only):\n",
            "hello\n"
          ],
          "name": "stdout"
        }
      ]
    },
    {
      "cell_type": "markdown",
      "metadata": {
        "id": "_l8Kb2c2SVH4",
        "colab_type": "text"
      },
      "source": [
        "# **startswith() dan endswith()**\n",
        "\n",
        "Digunakan untuk mengecek nilai True bersadarkan nilai awalah atau akhiran string.\n",
        "\n",
        "Fungsi ini efisien sehingga tidak perlu menggunakan = untuk membandingkan 2 strings"
      ]
    },
    {
      "cell_type": "code",
      "metadata": {
        "id": "BCyxoiwZSiK3",
        "colab_type": "code",
        "colab": {
          "base_uri": "https://localhost:8080/",
          "height": 34
        },
        "outputId": "2911b974-1ef2-4f1c-839b-e23a8083ff2f"
      },
      "source": [
        "'Hello world'.startswith('Hello')"
      ],
      "execution_count": null,
      "outputs": [
        {
          "output_type": "execute_result",
          "data": {
            "text/plain": [
              "True"
            ]
          },
          "metadata": {
            "tags": []
          },
          "execution_count": 16
        }
      ]
    },
    {
      "cell_type": "code",
      "metadata": {
        "id": "MKzAEEkNSnot",
        "colab_type": "code",
        "colab": {
          "base_uri": "https://localhost:8080/",
          "height": 34
        },
        "outputId": "62225c93-b4c7-4c0d-e5e0-ed1e4e8ef441"
      },
      "source": [
        "'Hello world'.endswith('world')"
      ],
      "execution_count": null,
      "outputs": [
        {
          "output_type": "execute_result",
          "data": {
            "text/plain": [
              "True"
            ]
          },
          "metadata": {
            "tags": []
          },
          "execution_count": 17
        }
      ]
    },
    {
      "cell_type": "code",
      "metadata": {
        "id": "7r2MVXC6StsC",
        "colab_type": "code",
        "colab": {
          "base_uri": "https://localhost:8080/",
          "height": 34
        },
        "outputId": "e9a968fa-4367-4612-d752-6a62ec78c3fb"
      },
      "source": [
        "'abc123'.startswith('abdef')"
      ],
      "execution_count": null,
      "outputs": [
        {
          "output_type": "execute_result",
          "data": {
            "text/plain": [
              "False"
            ]
          },
          "metadata": {
            "tags": []
          },
          "execution_count": 18
        }
      ]
    },
    {
      "cell_type": "code",
      "metadata": {
        "id": "oQ5K_N9FSy6O",
        "colab_type": "code",
        "colab": {
          "base_uri": "https://localhost:8080/",
          "height": 34
        },
        "outputId": "e41f80ff-9c28-46f9-88da-d4fc72f995e5"
      },
      "source": [
        "'abc123'.endswith('12')"
      ],
      "execution_count": null,
      "outputs": [
        {
          "output_type": "execute_result",
          "data": {
            "text/plain": [
              "False"
            ]
          },
          "metadata": {
            "tags": []
          },
          "execution_count": 19
        }
      ]
    },
    {
      "cell_type": "code",
      "metadata": {
        "id": "U5cDtekvS44z",
        "colab_type": "code",
        "colab": {
          "base_uri": "https://localhost:8080/",
          "height": 34
        },
        "outputId": "6c013dfe-bb3a-4a7f-d932-3ca526055696"
      },
      "source": [
        "'Hello world'.endswith('Hello world')"
      ],
      "execution_count": null,
      "outputs": [
        {
          "output_type": "execute_result",
          "data": {
            "text/plain": [
              "True"
            ]
          },
          "metadata": {
            "tags": []
          },
          "execution_count": 20
        }
      ]
    },
    {
      "cell_type": "markdown",
      "metadata": {
        "id": "I9MgHXDfVt0t",
        "colab_type": "text"
      },
      "source": [
        "# **join() dan split()**\n",
        "\n",
        "untuk menggabungkan dan memisahkan string"
      ]
    },
    {
      "cell_type": "code",
      "metadata": {
        "id": "g3nvOLEcV1JH",
        "colab_type": "code",
        "colab": {
          "base_uri": "https://localhost:8080/",
          "height": 34
        },
        "outputId": "7aa6922f-075c-4212-ea3a-b475c37a9b22"
      },
      "source": [
        "', '.join(['cats', 'rats', 'bats'])"
      ],
      "execution_count": null,
      "outputs": [
        {
          "output_type": "execute_result",
          "data": {
            "text/plain": [
              "'cats, rats, bats'"
            ]
          },
          "metadata": {
            "tags": []
          },
          "execution_count": 21
        }
      ]
    },
    {
      "cell_type": "code",
      "metadata": {
        "id": "hj37qC7WV-7h",
        "colab_type": "code",
        "colab": {
          "base_uri": "https://localhost:8080/",
          "height": 34
        },
        "outputId": "edacc14c-2c81-47eb-95aa-e07b778f207e"
      },
      "source": [
        "' '.join(['My', 'name', 'is', 'Ezi'])"
      ],
      "execution_count": null,
      "outputs": [
        {
          "output_type": "execute_result",
          "data": {
            "text/plain": [
              "'My name is Ezi'"
            ]
          },
          "metadata": {
            "tags": []
          },
          "execution_count": 22
        }
      ]
    },
    {
      "cell_type": "code",
      "metadata": {
        "id": "I6xoLMhDWJOi",
        "colab_type": "code",
        "colab": {
          "base_uri": "https://localhost:8080/",
          "height": 34
        },
        "outputId": "ba7af1c3-c650-4d85-81a3-89caff143373"
      },
      "source": [
        "'ABC'.join(['Meine', 'name', 'ist', 'Ezi'])\n",
        "\n",
        "# perintah di depan . akan menjadi penggabung di antara isi string"
      ],
      "execution_count": null,
      "outputs": [
        {
          "output_type": "execute_result",
          "data": {
            "text/plain": [
              "'MeineABCnameABCistABCEzi'"
            ]
          },
          "metadata": {
            "tags": []
          },
          "execution_count": 23
        }
      ]
    },
    {
      "cell_type": "code",
      "metadata": {
        "id": "ctUApLZwWbwh",
        "colab_type": "code",
        "colab": {
          "base_uri": "https://localhost:8080/",
          "height": 34
        },
        "outputId": "c06e2ded-91e5-41ce-ecec-d8f50ab23b4a"
      },
      "source": [
        "'My name is Ezi'.split()"
      ],
      "execution_count": null,
      "outputs": [
        {
          "output_type": "execute_result",
          "data": {
            "text/plain": [
              "['My', 'name', 'is', 'Ezi']"
            ]
          },
          "metadata": {
            "tags": []
          },
          "execution_count": 24
        }
      ]
    },
    {
      "cell_type": "code",
      "metadata": {
        "id": "O-0ysdXBWnDQ",
        "colab_type": "code",
        "colab": {
          "base_uri": "https://localhost:8080/",
          "height": 34
        },
        "outputId": "cfe9aa41-47de-42c5-b017-377d585dae2b"
      },
      "source": [
        "'MyABCnameABCisABCEzi'.split('ABC')"
      ],
      "execution_count": null,
      "outputs": [
        {
          "output_type": "execute_result",
          "data": {
            "text/plain": [
              "['My', 'name', 'is', 'Ezi']"
            ]
          },
          "metadata": {
            "tags": []
          },
          "execution_count": 26
        }
      ]
    },
    {
      "cell_type": "code",
      "metadata": {
        "id": "I249aJ27Wxni",
        "colab_type": "code",
        "colab": {
          "base_uri": "https://localhost:8080/",
          "height": 34
        },
        "outputId": "bb358d92-ca8a-4dc7-ed72-75fa5c15eb4c"
      },
      "source": [
        "'My name is Ezi'.split('m')"
      ],
      "execution_count": null,
      "outputs": [
        {
          "output_type": "execute_result",
          "data": {
            "text/plain": [
              "['My na', 'e is Ezi']"
            ]
          },
          "metadata": {
            "tags": []
          },
          "execution_count": 27
        }
      ]
    },
    {
      "cell_type": "code",
      "metadata": {
        "id": "X8IVdLpsW3zx",
        "colab_type": "code",
        "colab": {
          "base_uri": "https://localhost:8080/",
          "height": 136
        },
        "outputId": "a18e5a35-1e90-40ff-fe2a-e0d278aac2e0"
      },
      "source": [
        "a = '''Dear Alice,\n",
        "How have you been? I'm fine.\n",
        "There is a container in ther fridge\n",
        "that is labeled \"Milk Experiment\".\n",
        "Please do not drink it.\n",
        "Sincerely,\n",
        "Bob'''\n",
        "a.split('\\n')\n",
        "\n",
        "# split() digunakan untuk memisahkan setiap baris pada multiline"
      ],
      "execution_count": null,
      "outputs": [
        {
          "output_type": "execute_result",
          "data": {
            "text/plain": [
              "['Dear Alice,',\n",
              " \"How have you been? I'm fine.\",\n",
              " 'There is a container in ther fridge',\n",
              " 'that is labeled \"Milk Experiment\".',\n",
              " 'Please do not drink it.',\n",
              " 'Sincerely,',\n",
              " 'Bob']"
            ]
          },
          "metadata": {
            "tags": []
          },
          "execution_count": 28
        }
      ]
    },
    {
      "cell_type": "markdown",
      "metadata": {
        "id": "39mjl109Xpnv",
        "colab_type": "text"
      },
      "source": [
        "# **rjust(), ljust(), center()**\n",
        "\n",
        "merapikan pencetakan di layar (rata kiri, kanan, tengah).\n",
        "\n",
        "Sangat berguna untuk membuat tabulasi/tabel"
      ]
    },
    {
      "cell_type": "code",
      "metadata": {
        "id": "__drigVyQX9x",
        "colab_type": "code",
        "colab": {
          "base_uri": "https://localhost:8080/",
          "height": 34
        },
        "outputId": "afc7518d-ba8f-4454-d3e3-24097377750f"
      },
      "source": [
        "'Hello'.rjust(10)\n",
        "\n",
        "# rjust() artinya rata kanan dan 10 menentukan panjang string\n",
        "# jadi rjsut(10) artinya rata kanan sepanjang 10 string\n",
        "# karena hello terdiri dari 5 string, maka ada 5 string tambahan di kiri\n",
        "# berupa whitespace supaya rata kanan"
      ],
      "execution_count": null,
      "outputs": [
        {
          "output_type": "execute_result",
          "data": {
            "text/plain": [
              "'     Hello'"
            ]
          },
          "metadata": {
            "tags": []
          },
          "execution_count": 5
        }
      ]
    },
    {
      "cell_type": "code",
      "metadata": {
        "id": "-N9xpf3nQnja",
        "colab_type": "code",
        "colab": {
          "base_uri": "https://localhost:8080/",
          "height": 34
        },
        "outputId": "5cb9fe3d-fa19-40c3-8843-b7eba3cb0567"
      },
      "source": [
        "'Hello'.rjust(20)"
      ],
      "execution_count": null,
      "outputs": [
        {
          "output_type": "execute_result",
          "data": {
            "text/plain": [
              "'               Hello'"
            ]
          },
          "metadata": {
            "tags": []
          },
          "execution_count": 2
        }
      ]
    },
    {
      "cell_type": "code",
      "metadata": {
        "id": "D3HcPzNrQ7Wn",
        "colab_type": "code",
        "colab": {
          "base_uri": "https://localhost:8080/",
          "height": 34
        },
        "outputId": "63464f04-e3eb-422e-84bc-0afdb356bf54"
      },
      "source": [
        "'Hello World'.rjust(20)"
      ],
      "execution_count": null,
      "outputs": [
        {
          "output_type": "execute_result",
          "data": {
            "text/plain": [
              "'         Hello World'"
            ]
          },
          "metadata": {
            "tags": []
          },
          "execution_count": 3
        }
      ]
    },
    {
      "cell_type": "code",
      "metadata": {
        "id": "GJVhDBxgRinK",
        "colab_type": "code",
        "colab": {
          "base_uri": "https://localhost:8080/",
          "height": 34
        },
        "outputId": "a7f2a62f-1e01-4b38-eaa2-0b2e88b94e06"
      },
      "source": [
        "'Hello'.ljust(10)"
      ],
      "execution_count": null,
      "outputs": [
        {
          "output_type": "execute_result",
          "data": {
            "text/plain": [
              "'Hello     '"
            ]
          },
          "metadata": {
            "tags": []
          },
          "execution_count": 4
        }
      ]
    },
    {
      "cell_type": "code",
      "metadata": {
        "id": "g3FH7lCUR98I",
        "colab_type": "code",
        "colab": {
          "base_uri": "https://localhost:8080/",
          "height": 34
        },
        "outputId": "e02a31a9-3598-46ec-a9e4-bd1b4137b805"
      },
      "source": [
        "'Hello'.rjust(20, '*')\n",
        "\n",
        "# selain whitespace, dapat juga menambah karakter dengan ''"
      ],
      "execution_count": null,
      "outputs": [
        {
          "output_type": "execute_result",
          "data": {
            "text/plain": [
              "'***************Hello'"
            ]
          },
          "metadata": {
            "tags": []
          },
          "execution_count": 6
        }
      ]
    },
    {
      "cell_type": "code",
      "metadata": {
        "id": "aakguoeFSL2P",
        "colab_type": "code",
        "colab": {
          "base_uri": "https://localhost:8080/",
          "height": 34
        },
        "outputId": "03f06c8e-bc43-4611-f332-e4dd4da52f83"
      },
      "source": [
        "'Hello'.ljust(20, '-')"
      ],
      "execution_count": null,
      "outputs": [
        {
          "output_type": "execute_result",
          "data": {
            "text/plain": [
              "'Hello---------------'"
            ]
          },
          "metadata": {
            "tags": []
          },
          "execution_count": 7
        }
      ]
    },
    {
      "cell_type": "code",
      "metadata": {
        "id": "hlL4Jlx5SRSL",
        "colab_type": "code",
        "colab": {
          "base_uri": "https://localhost:8080/",
          "height": 34
        },
        "outputId": "20eab913-6d7a-4fae-e33c-766ddad85c1b"
      },
      "source": [
        "'Hello'.center(20)"
      ],
      "execution_count": null,
      "outputs": [
        {
          "output_type": "execute_result",
          "data": {
            "text/plain": [
              "'       Hello        '"
            ]
          },
          "metadata": {
            "tags": []
          },
          "execution_count": 8
        }
      ]
    },
    {
      "cell_type": "code",
      "metadata": {
        "id": "poHuctq0SYn9",
        "colab_type": "code",
        "colab": {
          "base_uri": "https://localhost:8080/",
          "height": 34
        },
        "outputId": "5418042b-0d5b-483a-f8e2-66aaf023d5ff"
      },
      "source": [
        "'Hello'.center(20, '=')"
      ],
      "execution_count": null,
      "outputs": [
        {
          "output_type": "execute_result",
          "data": {
            "text/plain": [
              "'=======Hello========'"
            ]
          },
          "metadata": {
            "tags": []
          },
          "execution_count": 9
        }
      ]
    },
    {
      "cell_type": "markdown",
      "metadata": {
        "id": "yMPx3g_q6siG",
        "colab_type": "text"
      },
      "source": [
        "# **Hapus whitespace dengan strip(), rstrip(), dan lstrip()**"
      ]
    },
    {
      "cell_type": "code",
      "metadata": {
        "id": "jCamwfAM7vtm",
        "colab_type": "code",
        "colab": {
          "base_uri": "https://localhost:8080/",
          "height": 34
        },
        "outputId": "37819d88-123f-4d06-efc3-461253ae2170"
      },
      "source": [
        "spam = '     Hello World    '\n",
        "spam.strip()\n",
        "\n",
        "# strip() menghapus whitespace pada awal dan akhir string"
      ],
      "execution_count": 3,
      "outputs": [
        {
          "output_type": "execute_result",
          "data": {
            "text/plain": [
              "'Hello World'"
            ]
          },
          "metadata": {
            "tags": []
          },
          "execution_count": 3
        }
      ]
    },
    {
      "cell_type": "code",
      "metadata": {
        "id": "7dZAVG6Y8D-B",
        "colab_type": "code",
        "colab": {
          "base_uri": "https://localhost:8080/",
          "height": 34
        },
        "outputId": "8cc74b69-eb7d-46ef-b90c-e5f6e0fbccba"
      },
      "source": [
        "spam.lstrip()\n",
        "\n",
        "# lstrip() menghapus whitespace pada kiri string saja"
      ],
      "execution_count": 4,
      "outputs": [
        {
          "output_type": "execute_result",
          "data": {
            "text/plain": [
              "'Hello World    '"
            ]
          },
          "metadata": {
            "tags": []
          },
          "execution_count": 4
        }
      ]
    },
    {
      "cell_type": "code",
      "metadata": {
        "id": "XnC7uRDa8Lv2",
        "colab_type": "code",
        "colab": {
          "base_uri": "https://localhost:8080/",
          "height": 34
        },
        "outputId": "c871c5e8-f8fc-490b-8618-ee15d5afb816"
      },
      "source": [
        "spam.rstrip() \n",
        "\n",
        "# rstrip() menghapus whitespace pada kanan string saja"
      ],
      "execution_count": 5,
      "outputs": [
        {
          "output_type": "execute_result",
          "data": {
            "text/plain": [
              "'     Hello World'"
            ]
          },
          "metadata": {
            "tags": []
          },
          "execution_count": 5
        }
      ]
    },
    {
      "cell_type": "code",
      "metadata": {
        "id": "axWZAU6-8WR0",
        "colab_type": "code",
        "colab": {
          "base_uri": "https://localhost:8080/",
          "height": 34
        },
        "outputId": "eb8072ca-4d35-4336-e678-13a9f7ecadae"
      },
      "source": [
        "spam = 'SpamSpamBaconSpamEggsSpamSpam'\n",
        "spam.strip('ampS')\n",
        "\n",
        "# strip() dapat juga menghapus karakter yang tidak diinginkan\n",
        "# urutan karakter tidak menjadi masalah\n",
        "# bisa menggunakan 'ampS', 'mapS', atau 'Spam', selama sesuai dengan\n",
        "# apa yang ingin dihilangkan "
      ],
      "execution_count": 6,
      "outputs": [
        {
          "output_type": "execute_result",
          "data": {
            "text/plain": [
              "'BaconSpamEggs'"
            ]
          },
          "metadata": {
            "tags": []
          },
          "execution_count": 6
        }
      ]
    },
    {
      "cell_type": "markdown",
      "metadata": {
        "id": "axZDmDQy8tsm",
        "colab_type": "text"
      },
      "source": [
        "# **replace() untuk mengganti string/substring**"
      ]
    },
    {
      "cell_type": "code",
      "metadata": {
        "id": "2vUu4rWI8yq7",
        "colab_type": "code",
        "colab": {
          "base_uri": "https://localhost:8080/",
          "height": 34
        },
        "outputId": "6d8b5499-605e-4e39-f45c-cbabcdacfc88"
      },
      "source": [
        "string = \"Let's get wild tonight\"\n",
        "print(string.replace(\"wild\", \"some sleep\"))\n",
        "\n",
        "# replace() mengganti isi string yang diinginkan dengan yang baru\n",
        "# instruksi replace bersifat case sensitive"
      ],
      "execution_count": 7,
      "outputs": [
        {
          "output_type": "stream",
          "text": [
            "Let's get some sleep tonight\n"
          ],
          "name": "stdout"
        }
      ]
    },
    {
      "cell_type": "code",
      "metadata": {
        "id": "2rxcvIDI9It1",
        "colab_type": "code",
        "colab": {
          "base_uri": "https://localhost:8080/",
          "height": 34
        },
        "outputId": "049a62a7-7ce1-4624-dd81-9407749a7cc2"
      },
      "source": [
        "string = \"Let's get wild tonight because this wild life is meant to be enjoyed\"\n",
        "print(string.replace(\"wild\", \"some sleep\", 1))\n",
        "\n",
        "# replace() dapat diisi jumlah substring yang ingin diganti\n",
        "# pada kasus ini, hanya mengganti 1 substring pada entri \"wild\" yang pertama"
      ],
      "execution_count": 10,
      "outputs": [
        {
          "output_type": "stream",
          "text": [
            "Let's get some sleep tonight because this wild life is meant to be enjoyed\n"
          ],
          "name": "stdout"
        }
      ]
    }
  ]
}