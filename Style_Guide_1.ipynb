{
  "nbformat": 4,
  "nbformat_minor": 0,
  "metadata": {
    "colab": {
      "name": "Style Guide 1.ipynb",
      "provenance": [],
      "authorship_tag": "ABX9TyML7wlYOaNqo5qPAEi/LMih",
      "include_colab_link": true
    },
    "kernelspec": {
      "name": "python3",
      "display_name": "Python 3"
    }
  },
  "cells": [
    {
      "cell_type": "markdown",
      "metadata": {
        "id": "view-in-github",
        "colab_type": "text"
      },
      "source": [
        "<a href=\"https://colab.research.google.com/github/ezioux/Learning-Python/blob/Style-Guide/Style_Guide_1.ipynb\" target=\"_parent\"><img src=\"https://colab.research.google.com/assets/colab-badge.svg\" alt=\"Open In Colab\"/></a>"
      ]
    },
    {
      "cell_type": "markdown",
      "metadata": {
        "id": "ziGzOVS5pzoo",
        "colab_type": "text"
      },
      "source": [
        "# Indentasi\n",
        "Untuk menulis kode bertingkat\n"
      ]
    },
    {
      "cell_type": "code",
      "metadata": {
        "id": "C1EgcwfGPvt6",
        "colab_type": "code",
        "colab": {}
      },
      "source": [
        "# Baris Lanjutan\n",
        "\n",
        "Untuk menulis kode yang tidak cukup dalam satu baris \n",
        "\n",
        "#Hanging Indent:\n",
        "Rata kiri dengan kurung pemisah dengan argumen utama\n",
        "foo = long_function_name(var_one,\n",
        "                          var_two)\n",
        "\n",
        "#Indentasi ekstra untuk memisahkan argumen:\n",
        "def long_function_name(\n",
        "        var_one, var_two, var_three,\n",
        "        var_four):\n",
        "    print(var_one)\n",
        "\n",
        "#Hanging indents dengan penambahan level indentasi saja:\n",
        "foo = long_function_name(\n",
        "      var_one, var_two, var_three)\n"
      ],
      "execution_count": 0,
      "outputs": []
    },
    {
      "cell_type": "code",
      "metadata": {
        "id": "wtE2qgwLP3aP",
        "colab_type": "code",
        "colab": {}
      },
      "source": [
        "# Tidak Disarankan\n",
        "\n",
        "#Tidak rata kiri dengan bagian yang relevan\n",
        "foo = long_function_name(var_one, var_two,\n",
        "    var_three, var_four)\n",
        "\n",
        "#Sulit dibedakan antara baris lanjutan atau fungsi baru\n",
        "def long_function_name(\n",
        "    var_one, var_two, var_three\n",
        "    var_four):\n",
        "    print(var_one)"
      ],
      "execution_count": 0,
      "outputs": []
    },
    {
      "cell_type": "code",
      "metadata": {
        "id": "yB1cJKDgQElh",
        "colab_type": "code",
        "colab": {}
      },
      "source": [
        ""
      ],
      "execution_count": 0,
      "outputs": []
    },
    {
      "cell_type": "markdown",
      "metadata": {
        "id": "KDzXf7RVQ9Lp",
        "colab_type": "text"
      },
      "source": [
        "# **Kondisional (If)**"
      ]
    },
    {
      "cell_type": "code",
      "metadata": {
        "id": "C3l4bY5AREVs",
        "colab_type": "code",
        "colab": {}
      },
      "source": [
        "# Kondisi visual tanpa indentasi\n",
        "if (kondisi dan \n",
        "    kondisi):\n",
        "    perintah()\n",
        "\n",
        "# Tambahkan komentar\n",
        "if (kondisi dan \n",
        "    kondisi):\n",
        "    # Mengingat keduanya benar lakukan hal berikut\n",
        "    perintah()\n",
        "\n",
        "# Tambah ekstra indentasi pada baris lanjutan\n",
        "if (kondisi dan \n",
        "        kondisi lain):\n",
        "  perintah()"
      ],
      "execution_count": 0,
      "outputs": []
    },
    {
      "cell_type": "markdown",
      "metadata": {
        "id": "RgX_0N3uRher",
        "colab_type": "text"
      },
      "source": [
        "# ***Kurung siku penutup ] ***"
      ]
    },
    {
      "cell_type": "code",
      "metadata": {
        "id": "bSpapJQVRsfJ",
        "colab_type": "code",
        "colab": {}
      },
      "source": [
        "# Diletakkan pada baris lanjutan mengikuti posisi karakter pertama yang bukan\n",
        "# whitespace pada baris sebelumnya\n",
        "\n",
        "my_list = [\n",
        "   1, 2, 3, \n",
        "   4, 5, 6,\n",
        "   ]\n",
        "\n",
        "result = some_fucntion_that_takes_arguments(\n",
        "    'a', 'b', 'c',\n",
        "    'd', 'e', 'f',\n",
        "    )\n",
        "\n",
        "# Atau diletakkan sejajar dengan statement utama\n",
        "\n",
        "my_list = [\n",
        "    1, 2, 3,\n",
        "    4, 5, 6, \n",
        "]\n",
        "\n",
        "result = some_function_that_takes_arguments(\n",
        "      'a', 'b', 'c',\n",
        "      'd', 'e', 'f',\n",
        ")"
      ],
      "execution_count": 0,
      "outputs": []
    },
    {
      "cell_type": "markdown",
      "metadata": {
        "id": "DusK66VDSxGM",
        "colab_type": "text"
      },
      "source": [
        "# ***Tab atau spasi ***\n",
        "\n",
        "Indentasi untuk konversi kode dengan menggunakan spasi\n",
        "\n",
        "# *** Panjang baris maksimum ***\n",
        "79 karakter kode\n",
        "72 karakter komentar/dokumentasi\n",
        "\n",
        "79 karena window-with adalah 80 karakter\n",
        "1 karakter marker glyph atau whitespace\n",
        "\n",
        "pisahkan kode menggunakan baris baru atau indentasi \n",
        "atau bisa juga backslash \\\n",
        "tapi tidak disarankan, kecuali harus\n"
      ]
    }
  ]
}