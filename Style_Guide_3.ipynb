{
  "nbformat": 4,
  "nbformat_minor": 0,
  "metadata": {
    "colab": {
      "name": "Style_Guide_3.ipynb",
      "provenance": [],
      "collapsed_sections": [],
      "include_colab_link": true
    },
    "kernelspec": {
      "name": "python3",
      "display_name": "Python 3"
    }
  },
  "cells": [
    {
      "cell_type": "markdown",
      "metadata": {
        "id": "view-in-github",
        "colab_type": "text"
      },
      "source": [
        "<a href=\"https://colab.research.google.com/github/ezioux/Learning-Python/blob/Style-Guide/Style_Guide_3.ipynb\" target=\"_parent\"><img src=\"https://colab.research.google.com/assets/colab-badge.svg\" alt=\"Open In Colab\"/></a>"
      ]
    },
    {
      "cell_type": "markdown",
      "metadata": {
        "id": "U_JMhh_LFZsw",
        "colab_type": "text"
      },
      "source": [
        "#**Statement Gabungan**\n",
        "\n",
        "\n",
        "*   Tidak menggabungkan >1 statement pada baris yang sama \n",
        "\n",
        "*   Tidak membuat konten/isi dari if/for/while multiclause seperti if-else, try-finally, dsb\n"
      ]
    },
    {
      "cell_type": "code",
      "metadata": {
        "id": "YjDR-ReTFqws",
        "colab_type": "code",
        "colab": {}
      },
      "source": [
        "if foo == 'blah':\n",
        "    do_blah_thing()\n",
        "do_one()\n",
        "do_two()\n",
        "do_three\n",
        "\n",
        "# tidak menggabungkan >1 statement pada baris yang sama memudahkan pembacaan kode\n"
      ],
      "execution_count": null,
      "outputs": []
    },
    {
      "cell_type": "markdown",
      "metadata": {
        "id": "XPzgAlVmGWvA",
        "colab_type": "text"
      },
      "source": [
        "# **Trailing Commas**\n",
        "\n",
        "Trailing commas (koma di bagian akhir) bersifat **opsional**. **Ia wajib jika membuat variabel menggunakan tipe tuple (string yang tidak bisa diubah) dengan satu elemen.**\n",
        "\n",
        "/\n",
        "\n",
        "Trailing comma ditulis dalam kurung untuk menghindari penghapusan (karena koma diakhir biasanya bersfat opsional, jadi dia rentan terhapus oleh app korektor)\n"
      ]
    },
    {
      "cell_type": "code",
      "metadata": {
        "id": "Sg2X_ygJFq-x",
        "colab_type": "code",
        "colab": {}
      },
      "source": [
        "FILES = ('setup.cfg',)\n",
        "\n",
        "# contoh penggunaan trailing commas"
      ],
      "execution_count": null,
      "outputs": []
    },
    {
      "cell_type": "code",
      "metadata": {
        "id": "okfaLt-4HVuv",
        "colab_type": "code",
        "colab": {}
      },
      "source": [
        "FILES = [\n",
        "    'setup.cfg',\n",
        "    'tox.ini',\n",
        "    ] \n",
        " initialize(FILES,\n",
        "            error=True,\n",
        "            )\n",
        " \n",
        " # contoh penggunaan trailing commas pada >1 elemen\n",
        " # jangan lupa gunakan baris baru dan indetasi yang sesuai"
      ],
      "execution_count": null,
      "outputs": []
    },
    {
      "cell_type": "markdown",
      "metadata": {
        "id": "UOEPBfJFNAAU",
        "colab_type": "text"
      },
      "source": [
        "\n",
        "\n",
        "#**Anotasi Fungsi**\n",
        "\n",
        "1.   Menggunakan spasi setelah :  (: )\n",
        "2.   Tidak menggunakan spasi sebelum dan sesudah = untuk mengindikasikan keyword argument atau nilai dasar ketika menggunakan anotasi\n",
        "3.    Menggunakan spasi sebelum dan sesudah =  untuk kombinasi argumen anotasi dan nilai dasar\n",
        "\n"
      ]
    },
    {
      "cell_type": "code",
      "metadata": {
        "id": "mV1KqrBLN3fF",
        "colab_type": "code",
        "colab": {}
      },
      "source": [
        "\n",
        "def munge(input: AnyStr):\n",
        "def munge() -> AnyStr: \n",
        "\n",
        "# menggunakan spasi setelah : sebagai anotasi fungsi"
      ],
      "execution_count": null,
      "outputs": []
    },
    {
      "cell_type": "code",
      "metadata": {
        "id": "u-r1uVDgOO2o",
        "colab_type": "code",
        "colab": {}
      },
      "source": [
        "\n",
        "def complex(real, imag=0.0):\n",
        "    return magic(r=real, i=img)\n",
        "\n",
        "# tidak menggunakan spacing pada = ketika tidak menggunakan anotasi"
      ],
      "execution_count": null,
      "outputs": []
    },
    {
      "cell_type": "code",
      "metadata": {
        "id": "6vz-SQonOlAD",
        "colab_type": "code",
        "colab": {}
      },
      "source": [
        "def munge(sep: AnyStr = None):\n",
        "def munge(input: AnyStr, sep: AnyStr = None, limit=1000):\n",
        "\n",
        "# menggunakan spacing pada = ketika melakukan kombinasi argumen anotasi\n",
        "# dan nilai dasar/default"
      ],
      "execution_count": null,
      "outputs": []
    }
  ]
}