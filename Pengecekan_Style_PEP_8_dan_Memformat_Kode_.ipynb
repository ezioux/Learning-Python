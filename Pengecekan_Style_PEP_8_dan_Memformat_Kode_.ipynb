{
  "nbformat": 4,
  "nbformat_minor": 0,
  "metadata": {
    "colab": {
      "name": "Pengecekan Style PEP 8 dan Memformat Kode .ipynb",
      "provenance": [],
      "authorship_tag": "ABX9TyNL0Vda/18wfZkiT6d/sXMW",
      "include_colab_link": true
    },
    "kernelspec": {
      "name": "python3",
      "display_name": "Python 3"
    }
  },
  "cells": [
    {
      "cell_type": "markdown",
      "metadata": {
        "id": "view-in-github",
        "colab_type": "text"
      },
      "source": [
        "<a href=\"https://colab.research.google.com/github/ezioux/Learning-Python/blob/Pengecekan-Style-PEP8-dan-Memformat-Kode/Pengecekan_Style_PEP_8_dan_Memformat_Kode_.ipynb\" target=\"_parent\"><img src=\"https://colab.research.google.com/assets/colab-badge.svg\" alt=\"Open In Colab\"/></a>"
      ]
    },
    {
      "cell_type": "code",
      "metadata": {
        "id": "UaqoDvzGrsH9",
        "colab_type": "code",
        "colab": {}
      },
      "source": [
        ""
      ],
      "execution_count": null,
      "outputs": []
    },
    {
      "cell_type": "markdown",
      "metadata": {
        "id": "yaWkhWik74-P",
        "colab_type": "text"
      },
      "source": [
        "# **Lint**\n",
        "\n",
        "Kode dalam Python ditulis dalam style PEP8. Untuk mengecek kesalahan sintaksis atau indentasi, dapat digunakan **Lint**. Beberapa program yang menjalankan proses lint disebut Linter dan dapat menunjukkan kesalahan (error) dalam format baris dan kolom.\n",
        "\n",
        "Contoh linter: **Pycodestyle, Pylint, Flake8**"
      ]
    },
    {
      "cell_type": "code",
      "metadata": {
        "id": "vklvvjnT8vBS",
        "colab_type": "code",
        "colab": {}
      },
      "source": [
        "pycodestyle kal.py\n",
        "kal.py:5:5 E301 expected 1 blank line, found 0\n",
        "kal.py:7:5 E112 expected an indented block\n",
        "\n",
        "# contoh hasil pengecekan menggunakan Pycodestyle\n",
        "# file bernama kal.py\n",
        "# ada kesalahan pada baris 5 kolom 5 berupa kurangnya blank line\n",
        "# ada kesalahan pada baris 7 kolom 5 berupa kurangnya indentasi"
      ],
      "execution_count": null,
      "outputs": []
    },
    {
      "cell_type": "markdown",
      "metadata": {
        "id": "Df-7Gufm93CE",
        "colab_type": "text"
      },
      "source": [
        "# **Memformat Kode**\n",
        "\n",
        "Untuk memformat kode agar sesuai dengan PEP8, dapat menggunakan editor seperti **Black, YAPF, atau Autopep8**.\n",
        "\n",
        "Jika menggunakan Notepad, file dapat disimpan dalam format .py lalu dijalankan di aplikasi-aplikasi tersebut sehingga formatnya dirapikan. Namun, notepad yang lebih advanced seperti Pycharm sudah punya fitur bawaan sejenis, meskipun masih bisa menggunakan aplikasi-aplikasi di atas. "
      ]
    }
  ]
}