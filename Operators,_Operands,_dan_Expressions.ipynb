{
  "nbformat": 4,
  "nbformat_minor": 0,
  "metadata": {
    "colab": {
      "name": "Operators, Operands, dan Expressions.ipynb",
      "provenance": [],
      "authorship_tag": "ABX9TyO41npmD0d22xfH1dO4Ewql",
      "include_colab_link": true
    },
    "kernelspec": {
      "name": "python3",
      "display_name": "Python 3"
    }
  },
  "cells": [
    {
      "cell_type": "markdown",
      "metadata": {
        "id": "view-in-github",
        "colab_type": "text"
      },
      "source": [
        "<a href=\"https://colab.research.google.com/github/ezioux/Learning-Python/blob/Operator%2C-Operands%2C-dan-Expressions/Operators%2C_Operands%2C_dan_Expressions.ipynb\" target=\"_parent\"><img src=\"https://colab.research.google.com/assets/colab-badge.svg\" alt=\"Open In Colab\"/></a>"
      ]
    },
    {
      "cell_type": "markdown",
      "metadata": {
        "id": "l_W_y_9eUggL",
        "colab_type": "text"
      },
      "source": [
        "a + b \n",
        "\n",
        "+ = operator\n",
        "a, b = operand"
      ]
    },
    {
      "cell_type": "markdown",
      "metadata": {
        "id": "5eFwX5zWYAVI",
        "colab_type": "text"
      },
      "source": [
        "# Operator Matematika dan String\n",
        "\n",
        "+ \n",
        "- (tidak berlaku untuk string)\n",
        "*\n",
        "** pangkat (untuk akar 2, gunakan pangkat 0.5)\n",
        "/\n",
        "// bagi habis\n",
        "% modulo (mengembalikan sisa bagi)\n",
        "          contoh; 13 % 3 hasilnya 1 "
      ]
    },
    {
      "cell_type": "markdown",
      "metadata": {
        "id": "-0Aw46ZwcGTX",
        "colab_type": "text"
      },
      "source": [
        "# Operasi Bit\n",
        "\n",
        "\\>> right shift\n",
        "\\\n",
        "\\<< left shift\n",
        "\\\n",
        "\\& (bitwise AND)\n",
        "\\\n",
        "\\| (bitwise OR)\n",
        "\\\n",
        "\\^ (bitwise XOR)\n",
        "\\\n",
        "\\~ (bitwise invert)\n"
      ]
    },
    {
      "cell_type": "code",
      "metadata": {
        "id": "hB8XqF4TaTw2",
        "colab_type": "code",
        "colab": {
          "base_uri": "https://localhost:8080/",
          "height": 34
        },
        "outputId": "d001ee76-3b8e-4fd8-febf-c36c7c52656e"
      },
      "source": [
        "2 << 2\n",
        "\n",
        "# left shift \n",
        "# menggeser bit dari operand pertama sebanyak operand kedua ke kiri\n",
        "# 2 dalam binary adalah 00010\n",
        "# geser 2 jadi 01000\n",
        "# 01000 = 8"
      ],
      "execution_count": 1,
      "outputs": [
        {
          "output_type": "execute_result",
          "data": {
            "text/plain": [
              "8"
            ]
          },
          "metadata": {
            "tags": []
          },
          "execution_count": 1
        }
      ]
    },
    {
      "cell_type": "code",
      "metadata": {
        "id": "hbbCIIDqayYH",
        "colab_type": "code",
        "colab": {
          "base_uri": "https://localhost:8080/",
          "height": 34
        },
        "outputId": "9c471614-33cd-4a20-ef48-d182b6628c2d"
      },
      "source": [
        "11 >> 1\n",
        "\n",
        "# right shift\n",
        "# menggeser bit sebanyak operand kedua ke kanan \n",
        "# 11 dalam binary adalah 001011\n",
        "# geser 1 ke kanan jadi 000101\n",
        "# 000101 = 5"
      ],
      "execution_count": 2,
      "outputs": [
        {
          "output_type": "execute_result",
          "data": {
            "text/plain": [
              "5"
            ]
          },
          "metadata": {
            "tags": []
          },
          "execution_count": 2
        }
      ]
    },
    {
      "cell_type": "code",
      "metadata": {
        "id": "DvgkkH99bZ6T",
        "colab_type": "code",
        "colab": {
          "base_uri": "https://localhost:8080/",
          "height": 34
        },
        "outputId": "8e06da05-981f-4e55-da0a-2b1e52c892b7"
      },
      "source": [
        "5 & 3\n",
        "\n",
        "# bitwise AND (&)  bekerja dengan AND menggunakan Truth Table And\n",
        "# dalam Truth Table, 0 = false dan 1 = true\n",
        "# 0 dan 0 = 0, 0 dan 1 = 0, 1 dan 0 = 0, 1 dan 1 = 1\n",
        "# 5 dalam binary adalah 00101\n",
        "# 3 dalam binary adalah 00011\n",
        "# 5 dan 3 dalam binary dikalkulasi dengan table AND sehingga 00001\n",
        "# 00001 dalam integer adalah 1\n",
        "# maka bitwise AND 5 dan 3 adalah 1"
      ],
      "execution_count": 3,
      "outputs": [
        {
          "output_type": "execute_result",
          "data": {
            "text/plain": [
              "1"
            ]
          },
          "metadata": {
            "tags": []
          },
          "execution_count": 3
        }
      ]
    },
    {
      "cell_type": "code",
      "metadata": {
        "id": "DrSZ18O1lYeH",
        "colab_type": "code",
        "colab": {
          "base_uri": "https://localhost:8080/",
          "height": 34
        },
        "outputId": "ccd71498-cdeb-4707-a88f-3a4f588323fb"
      },
      "source": [
        "5 | 3\n",
        "\n",
        "# bitwise OR  (|) bekerja dengan OR menggunakan Truth Table OR\n",
        "# dalam Truth Table, 0 = false dan 1 = tue\n",
        "# 0 dan 0 = 0, 1 dan 0 = 1, 0 dan 1 = 1, 1 dan 1 = 1\n",
        "# sekurang-kurangnya ada 1, maka nilai akan menjadi 1\n",
        "# 5 dalam binary adalah 00101\n",
        "# 3 dalam binary adalah 00011\n",
        "# 5 dan 3 dalam binary dikalkulasi dengan tabel OR sehingga 00111\n",
        "# 00111 dalam integer adalah 7\n",
        "# maka bitwise OR 5 dan 3 adalah 7"
      ],
      "execution_count": 4,
      "outputs": [
        {
          "output_type": "execute_result",
          "data": {
            "text/plain": [
              "7"
            ]
          },
          "metadata": {
            "tags": []
          },
          "execution_count": 4
        }
      ]
    },
    {
      "cell_type": "code",
      "metadata": {
        "id": "7jIrALR-mDwd",
        "colab_type": "code",
        "colab": {
          "base_uri": "https://localhost:8080/",
          "height": 34
        },
        "outputId": "d6a553bb-395d-4566-d897-cf8736a6da26"
      },
      "source": [
        "5 ^ 3\n",
        "\n",
        "# bitwise XOR (^) bekerja dengan menggunakan tabel XOR\n",
        "# dalam tabel XOR, 0 dan 0 = 0, 0 dan 1 = 1, 1 dan 0 = 1, 1 dan 1 = 0\n",
        "# setidaknya ada satu elemen yang berbeda sehingga menghasilkan 1\n",
        "# 5 dalam binary adalah 00101\n",
        "# 3 dalam binary adalah 00011\n",
        "# 5 dan 3 dalam binary dikalkulasi menggunakan tabel XOR sehingga 00110\n",
        "# 00110 dalam integer adalah 6\n",
        "# maka bitwise XOR 5 dan 3 adalah 6"
      ],
      "execution_count": 5,
      "outputs": [
        {
          "output_type": "execute_result",
          "data": {
            "text/plain": [
              "6"
            ]
          },
          "metadata": {
            "tags": []
          },
          "execution_count": 5
        }
      ]
    },
    {
      "cell_type": "code",
      "metadata": {
        "id": "56R7h1L8m7vb",
        "colab_type": "code",
        "colab": {
          "base_uri": "https://localhost:8080/",
          "height": 34
        },
        "outputId": "82b4d5d3-ad0e-41cc-a82b-2c17cff7d412"
      },
      "source": [
        "~5\n",
        "\n",
        "# bitwise invert (~) menjalankan operasi invert dalam binary\n",
        "# 5 dalam binary adalah 000101\n",
        "# menggunakan prinsip Two's complement, maka invert nilai 0101\n",
        "# setelah di-invert nilainya menjadi 1010\n",
        "# tambahkan 1 pada digit terakhir\n",
        "# sehingga nilai kalkulasinya menjadi 1011\n",
        "# pada bilangan negatif, nilai binarynya menjadi -8, 4, 2, 1\n",
        "# sehingga 1011 menjadi -8+2+1=-5\n",
        "\n",
        "# secara singkat, nilai invert 5 adalah -(x+1)\n",
        "# sehingga ~5 adalah -6"
      ],
      "execution_count": 6,
      "outputs": [
        {
          "output_type": "execute_result",
          "data": {
            "text/plain": [
              "-6"
            ]
          },
          "metadata": {
            "tags": []
          },
          "execution_count": 6
        }
      ]
    },
    {
      "cell_type": "markdown",
      "metadata": {
        "id": "gpqgtt-QrQqs",
        "colab_type": "text"
      },
      "source": [
        "# Perbandingan (hasil berupa True atau False)\n",
        "\n",
        "\\< operator.lt (less than)\n",
        "\\\n",
        "\\> operator.gt (greater than)\n",
        "\\\n",
        "\\<= operator.le (less than or equal to)\n",
        "\\\n",
        "\\>= operator.ge (greater than or equal to)\n",
        "\\\n",
        "\\== operator.eq (equal to)\n",
        "\\\n",
        "\\!= operator.ne (not equal to)\n",
        "\n",
        "\n",
        "\n"
      ]
    },
    {
      "cell_type": "markdown",
      "metadata": {
        "id": "-ZR1MA2OtK6T",
        "colab_type": "text"
      },
      "source": [
        "# Boolean Operator\n",
        "\n",
        "not\n",
        "\\\n",
        "and\n",
        "\\\n",
        "or"
      ]
    },
    {
      "cell_type": "code",
      "metadata": {
        "id": "ctO8-2KKtQ-V",
        "colab_type": "code",
        "colab": {
          "base_uri": "https://localhost:8080/",
          "height": 34
        },
        "outputId": "3ca21d35-7b0b-48f9-c0dd-22b3919d77ea"
      },
      "source": [
        "x = 2\n",
        "y = 3\n",
        "x == y"
      ],
      "execution_count": 15,
      "outputs": [
        {
          "output_type": "execute_result",
          "data": {
            "text/plain": [
              "False"
            ]
          },
          "metadata": {
            "tags": []
          },
          "execution_count": 15
        }
      ]
    },
    {
      "cell_type": "code",
      "metadata": {
        "id": "HPa5ab1ZuapB",
        "colab_type": "code",
        "colab": {
          "base_uri": "https://localhost:8080/",
          "height": 34
        },
        "outputId": "56c10df0-bc56-4f93-a164-5c5e1c360b21"
      },
      "source": [
        "x != y\n"
      ],
      "execution_count": 16,
      "outputs": [
        {
          "output_type": "execute_result",
          "data": {
            "text/plain": [
              "True"
            ]
          },
          "metadata": {
            "tags": []
          },
          "execution_count": 16
        }
      ]
    },
    {
      "cell_type": "code",
      "metadata": {
        "id": "5iXCNPuqwuW6",
        "colab_type": "code",
        "colab": {
          "base_uri": "https://localhost:8080/",
          "height": 34
        },
        "outputId": "ff874ff5-b38d-4244-dc57-fb84984d39e0"
      },
      "source": [
        "x < 8 and  y < 8\n",
        "\n",
        "# output 'True' karena sesuai dengan x = 2 dan y = 3"
      ],
      "execution_count": 17,
      "outputs": [
        {
          "output_type": "execute_result",
          "data": {
            "text/plain": [
              "True"
            ]
          },
          "metadata": {
            "tags": []
          },
          "execution_count": 17
        }
      ]
    },
    {
      "cell_type": "code",
      "metadata": {
        "id": "mivX7MqaxFQ7",
        "colab_type": "code",
        "colab": {
          "base_uri": "https://localhost:8080/",
          "height": 34
        },
        "outputId": "9386c83c-f7c6-442e-b327-c2521a79dbd0"
      },
      "source": [
        "x < 8  and y < 2\n",
        "\n",
        "# output 'False' karena meskipun x < 8 benar, tapi y < 2 salah\n",
        "# mengikuti Truth Table And yaitu: \n",
        "# 0 dan 0 = 0, 0 dan 1 = 0, 1 dan 0 = 0, 1 dan 1 = 1\n",
        "# maka, kedua pernyataan harus sama-sama benar ( 1 dan 1) \n",
        "# untuk mencapai True (1)"
      ],
      "execution_count": 18,
      "outputs": [
        {
          "output_type": "execute_result",
          "data": {
            "text/plain": [
              "False"
            ]
          },
          "metadata": {
            "tags": []
          },
          "execution_count": 18
        }
      ]
    },
    {
      "cell_type": "code",
      "metadata": {
        "id": "_IG7nRzYxw2J",
        "colab_type": "code",
        "colab": {
          "base_uri": "https://localhost:8080/",
          "height": 34
        },
        "outputId": "554512a9-ee0d-4f9c-d551-2d1dd3045dca"
      },
      "source": [
        "x < 8 or y < 2 \n",
        "\n",
        "# output 'True' karena meskipun y < 2 salah, tapi x < 8 benar\n",
        "# mengikuti Truth Table Or yaitu;\n",
        "# 0 dana 0 = 0, 0 dan 1 = 1, 1 dan 0 = 1, 1 dan 1 = 1\n",
        "# maka, jika ada satu saja yang benar (1), maka nilai akhirnya bisa 'True\" (1)"
      ],
      "execution_count": 19,
      "outputs": [
        {
          "output_type": "execute_result",
          "data": {
            "text/plain": [
              "True"
            ]
          },
          "metadata": {
            "tags": []
          },
          "execution_count": 19
        }
      ]
    },
    {
      "cell_type": "code",
      "metadata": {
        "id": "tf-S76JJyPC1",
        "colab_type": "code",
        "colab": {
          "base_uri": "https://localhost:8080/",
          "height": 34
        },
        "outputId": "39a4a6c5-3411-4782-8ff6-1ec8e7e2d3f4"
      },
      "source": [
        "x = True\n",
        "x"
      ],
      "execution_count": 20,
      "outputs": [
        {
          "output_type": "execute_result",
          "data": {
            "text/plain": [
              "True"
            ]
          },
          "metadata": {
            "tags": []
          },
          "execution_count": 20
        }
      ]
    },
    {
      "cell_type": "code",
      "metadata": {
        "id": "1hIKTs76yVkl",
        "colab_type": "code",
        "colab": {
          "base_uri": "https://localhost:8080/",
          "height": 34
        },
        "outputId": "fe166a45-bfc2-4b7c-b75d-ba662757eb0f"
      },
      "source": [
        "x = True\n",
        "not x\n",
        "\n",
        "# 'not' digunakan untuk menegasi True \n",
        "# sehingga hasilnya 'False'"
      ],
      "execution_count": 22,
      "outputs": [
        {
          "output_type": "execute_result",
          "data": {
            "text/plain": [
              "False"
            ]
          },
          "metadata": {
            "tags": []
          },
          "execution_count": 22
        }
      ]
    },
    {
      "cell_type": "code",
      "metadata": {
        "id": "P2RZKXK8y7IY",
        "colab_type": "code",
        "colab": {
          "base_uri": "https://localhost:8080/",
          "height": 34
        },
        "outputId": "7422e1c3-94e6-4bb7-ffec-ae0a5852c817"
      },
      "source": [
        "a = 2\n",
        "a = a * 3\n",
        "\n",
        "# dapat juga dituliskan sebagai \n",
        "\n",
        "a = 2\n",
        "a *= 3\n",
        "a"
      ],
      "execution_count": 27,
      "outputs": [
        {
          "output_type": "execute_result",
          "data": {
            "text/plain": [
              "6"
            ]
          },
          "metadata": {
            "tags": []
          },
          "execution_count": 27
        }
      ]
    }
  ]
}