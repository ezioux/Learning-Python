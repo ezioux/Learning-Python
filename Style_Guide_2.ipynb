{
  "nbformat": 4,
  "nbformat_minor": 0,
  "metadata": {
    "colab": {
      "name": "Style Guide 2.ipynb",
      "provenance": [],
      "authorship_tag": "ABX9TyOnseHha9/Jl0K4etXemspZ",
      "include_colab_link": true
    },
    "kernelspec": {
      "name": "python3",
      "display_name": "Python 3"
    }
  },
  "cells": [
    {
      "cell_type": "markdown",
      "metadata": {
        "id": "view-in-github",
        "colab_type": "text"
      },
      "source": [
        "<a href=\"https://colab.research.google.com/github/ezioux/Learning-Python/blob/Style-Guide/Style_Guide_2.ipynb\" target=\"_parent\"><img src=\"https://colab.research.google.com/assets/colab-badge.svg\" alt=\"Open In Colab\"/></a>"
      ]
    },
    {
      "cell_type": "markdown",
      "metadata": {
        "id": "bmpa1o-KVX7p",
        "colab_type": "text"
      },
      "source": [
        "# ***Mengganti Baris ***"
      ]
    },
    {
      "cell_type": "code",
      "metadata": {
        "id": "Bl5w0NgSUX82",
        "colab_type": "code",
        "colab": {}
      },
      "source": [
        "# Mengganti baris (sebelum operator binary)\n",
        "# supaya mata tidak capek dan memiminimalisasi kesalahan\n",
        "\n",
        "income = (gross_wages\n",
        "          + taxable_interest\n",
        "          + dividends - qualified_dividends\n",
        "          - ira_deduction\n",
        "          - student_loan_interest)\n"
      ],
      "execution_count": null,
      "outputs": []
    },
    {
      "cell_type": "markdown",
      "metadata": {
        "id": "_eAqhRNvVhy7",
        "colab_type": "text"
      },
      "source": [
        "# **Baris Kosong**\n",
        "\n",
        "Dua baris kosong pada top level function dan class definitions\n",
        "\n",
        "Satu baris kosong untuk setiap deklarasi method\n",
        "\n",
        "Satu baris kosong jika dibutuhkan untuk:\n",
        "memisahkan gabungan beberapa fungsi terkait atau\n",
        "meningkatkan keterbacaan kode"
      ]
    },
    {
      "cell_type": "markdown",
      "metadata": {
        "id": "blEqFFjfWXkE",
        "colab_type": "text"
      },
      "source": [
        "# **File Encoding**\n",
        "\n",
        "UTF-8 (Python 3)\n",
        "ASCII (Python 2)\n",
        "\n",
        "Python 3: standard library menggunakan karakter ASCII dan bahasa Inggris"
      ]
    },
    {
      "cell_type": "markdown",
      "metadata": {
        "id": "tdSgjzeBWp8D",
        "colab_type": "text"
      },
      "source": [
        "# **Import**"
      ]
    },
    {
      "cell_type": "code",
      "metadata": {
        "id": "BGm9I9glWtrY",
        "colab_type": "code",
        "colab": {}
      },
      "source": [
        "# Import library pada tiap baris berbeda\n",
        "\n",
        "Benar: import os\n",
        "     import sys\n",
        "\n",
        "\n",
        "Salah: import sys, os\n",
        "\n",
        "Kecuali memerlukan lebih dari satu sub-library dari library yang sama\n",
        "from subprocess import Popen, PIPE\n",
        "\n",
        "Tingkatan import:\n",
        "1. Standard Library\n",
        "\n",
        "\n",
        "2. Third-party Library\n",
        "\n",
        "\n",
        "3. Local/Specific Library\n",
        "\n",
        "\n",
        "(tiap grup dipisah dua baris kosong)\n",
        "\n",
        "\n",
        "# Absolute import untuk Standard Library (tingkat 1):\n",
        "import mypkg.sibling\n",
        "from mypkg import sibling -\n",
        "from mypkg.sibling import example \n",
        "\n",
        "# Import kelas/sub-library:\n",
        "from myclass import MyClass\n",
        "from foo.bar.yourclass import YourClass\n",
        "\n",
        "# Jika ada penamaan yang sama, panggil secara eksplisit\n",
        "import myclass (berdasarkan sub-library contoh di atas)\n",
        "import foo.bar.yourclass (berdasarkan sub-library contoh di atas)\n",
        "\n",
        "# Wildcard import\n",
        "from <module> import *\n",
        "-> sedapat mungkin dihindari untuk menghindari ambiguitas atau ketidaktahuan\n",
        "atas modul yang di-import\n",
        "\n",
        "\n",
        "\n"
      ],
      "execution_count": null,
      "outputs": []
    },
    {
      "cell_type": "markdown",
      "metadata": {
        "id": "dwxJ-AK9YiWM",
        "colab_type": "text"
      },
      "source": [
        "# **Tanda Petik**\n",
        "\n",
        "Bisa menggunakan ' atau \" selama konsisten\n",
        "''' untuk docstring"
      ]
    },
    {
      "cell_type": "markdown",
      "metadata": {
        "id": "dSnxHwKtYw8l",
        "colab_type": "text"
      },
      "source": [
        "# **Whitespace pada Expressions dan Statements**\n",
        "\n",
        "Wajib dihindari: penambahan whitespace yang tak perlu "
      ]
    },
    {
      "cell_type": "code",
      "metadata": {
        "id": "O0uGgL5UY6nu",
        "colab_type": "code",
        "colab": {}
      },
      "source": [
        "# Antara kurung, kurawal, kurung siku\n",
        "Benar: spam(ham[1], {eggs: 2})\n",
        "Salah: spam( ham[ 1 ], { eggs: 2 } )\n",
        "\n",
        "# Setelah koma tanpa argumen setelahnya\n",
        "Benar: foo = (0,)\n",
        "Salah: bar = (0, )\n",
        "\n",
        "# Sebelum koma, titik dua, atau titik koma\n",
        "Benar: if x == 4: print x, y; x, y, y = y, x\n",
        "Salah: of x == 4 : print x , y ; x , y = y , x\n",
        "\n",
        "# Pastikan whitespace yang sama ketika menggunakan titik dua atau \n",
        "# colon sebagai slice \n",
        "Benar:\n",
        "ham[1:9], ham[1:9:3], ham[9:3], ham[1::3], ham[1:9:]\n",
        "ham[lower:upper], ham[lower:upper:], ham[lower::step]\n",
        "ham[lower+offset : upper+offset]\n",
        "ham[: upper_fn(x) : step_fn(x)], ham[:: step_fn(x)]\n",
        "ham[lower + offset : upper + offset]\n",
        "\n",
        "# Memberikan parameter pada fungsi, sebelum kurung tidak boleh ada spasi\n",
        "Benar: spam(1)\n",
        "Salah: spam (1)\n",
        "\n",
        "# Saat memberikan parameter/index pada list, sebelum kurung siku tidak \n",
        "# boleh ada spasi\n",
        "Benar: dct['key'] = 1st[index]\n",
        "Salah: dct ['key'] = 1st [index]\n",
        "\n",
        "# Saat membuat assignment pada variabel, jangan memberikan spasi tidak perlu\n",
        "Benar:\n",
        "x = 1\n",
        "y = 2\n",
        "long_variable = 3\n",
        "\n",
        "Salah:\n",
        "x             = 1\n",
        "y             = 2\n",
        "long_variable = 3\n",
        "\n",
        "# Jangan menambahkan spasi di belakang statement\n",
        "\n",
        "\n"
      ],
      "execution_count": null,
      "outputs": []
    },
    {
      "cell_type": "markdown",
      "metadata": {
        "id": "N_xoMj9rcZDV",
        "colab_type": "text"
      },
      "source": [
        "# **Tambahkan Spasi pada:**\n",
        "\n",
        "\n",
        "\n",
        "1.   assignment (=)\n",
        "2.   augmented assignment (+=, -=, etc)\n",
        "3.   comparisons (==, <, >, !=, <>, <=, >=, in, not, in, is, is not)\n",
        "4.   booleans (and, or, not)\n"
      ]
    },
    {
      "cell_type": "code",
      "metadata": {
        "id": "yGlwxjwRc5_f",
        "colab_type": "code",
        "colab": {}
      },
      "source": [
        "# Jangan pernah menggunakan >1 spasi dan \n",
        "# gunakan jumlah spasi yang sama di kanan dan kiri operator binary\n",
        "\n",
        "Benar:\n",
        "i = 1 + 1\n",
        "submitted += 1\n",
        "x = x*2 - 1\n",
        "hypot2 = x*x + y*y\n",
        "c = (a+b) * (a-b)\n",
        "\n",
        "Salah:\n",
        "i=i+1\n",
        "submitted +=1\n",
        "x = x * 2 - 1\n",
        "hypot2 = x * x + y * y\n",
        "c = (a + b) * (a - b)\n"
      ],
      "execution_count": null,
      "outputs": []
    },
    {
      "cell_type": "markdown",
      "metadata": {
        "id": "cY8OADP0dgpf",
        "colab_type": "text"
      },
      "source": [
        "# **Komentar**\n",
        "\n",
        "*   Gunakan # di awal kalimat\n",
        "*   Dalam bahasa Inggris atau bahasa lainnya yang dimengerti\n",
        "*   Ditulis untuk menjelaskan fungsi di bawahnya\n",
        "\n",
        "\n"
      ]
    },
    {
      "cell_type": "code",
      "metadata": {
        "id": "xqk2hlhPeKqw",
        "colab_type": "code",
        "colab": {}
      },
      "source": [
        "# Komentar Inline\n",
        "# diletakkan pada barus yang sama dengan kode\n",
        "# atau  di atasnya\n",
        "# jangan menuliskan yang langsung dapat dibaca dari kodenya\n",
        "\n",
        "Tidak disarankan:\n",
        "x = x + 1       # Tambahkan x\n",
        "\n",
        "Disarankan (kontekstual):\n",
        "x = x + 1       # Mengakomodasi layar ukuran z"
      ],
      "execution_count": null,
      "outputs": []
    },
    {
      "cell_type": "markdown",
      "metadata": {
        "id": "CZUlXtWvenXU",
        "colab_type": "text"
      },
      "source": [
        "# **Dokumentasi (docstring)**\n",
        "\n",
        "*   Untuk modul, fungsi, kelas, method yang bersifar publik\n",
        "*   Komentar diletakan setelah baris def\n",
        "\n"
      ]
    },
    {
      "cell_type": "code",
      "metadata": {
        "id": "MZ-dycw0fECD",
        "colab_type": "code",
        "colab": {}
      },
      "source": [
        "# Tutup dosctring pada baris yang sama untuk docstring satu baris\n",
        "# Untuk docstring lebih dari satu baris:\n",
        "\n",
        "\"\"\"Return a foodbang\n",
        "Optional things you want to say like \n",
        "anything really \n",
        "\"\"\""
      ],
      "execution_count": null,
      "outputs": []
    }
  ]
}