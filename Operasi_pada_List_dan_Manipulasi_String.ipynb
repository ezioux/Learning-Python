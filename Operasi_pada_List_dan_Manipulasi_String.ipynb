{
  "nbformat": 4,
  "nbformat_minor": 0,
  "metadata": {
    "colab": {
      "name": "Operasi pada List dan Manipulasi String.ipynb",
      "provenance": [],
      "authorship_tag": "ABX9TyP2btWLp3w/c0mz28VyqNC+",
      "include_colab_link": true
    },
    "kernelspec": {
      "name": "python3",
      "display_name": "Python 3"
    }
  },
  "cells": [
    {
      "cell_type": "markdown",
      "metadata": {
        "id": "view-in-github",
        "colab_type": "text"
      },
      "source": [
        "<a href=\"https://colab.research.google.com/github/ezioux/Learning-Python/blob/Operasi-Pada-List-dan-Manipulasi-String/Operasi_pada_List_dan_Manipulasi_String.ipynb\" target=\"_parent\"><img src=\"https://colab.research.google.com/assets/colab-badge.svg\" alt=\"Open In Colab\"/></a>"
      ]
    },
    {
      "cell_type": "code",
      "metadata": {
        "id": "GUnXz4q7_-wc",
        "colab_type": "code",
        "colab": {}
      },
      "source": [
        ""
      ],
      "execution_count": null,
      "outputs": []
    },
    {
      "cell_type": "markdown",
      "metadata": {
        "id": "oKUK5gH1UDvN",
        "colab_type": "text"
      },
      "source": [
        "# **# Operasi pada urutan (sequences):**\n",
        "# List, Set, String "
      ]
    },
    {
      "cell_type": "markdown",
      "metadata": {
        "id": "4f7spgsnUPh0",
        "colab_type": "text"
      },
      "source": [
        "# len()\n",
        "menghitung panjang atau banyaknya elemen "
      ]
    },
    {
      "cell_type": "code",
      "metadata": {
        "id": "S-I_KSXrUXfL",
        "colab_type": "code",
        "colab": {
          "base_uri": "https://localhost:8080/",
          "height": 51
        },
        "outputId": "1ed4de88-c1ba-4ac7-c475-b9b49e13cf5a"
      },
      "source": [
        "l = [1,2,3,3,4,4,4,4,5,6]\n",
        "\n",
        "\n",
        "print(l)\n",
        "(len(l))\n",
        "\n",
        "# len() untuk menghitung jumlah isi pada list\n"
      ],
      "execution_count": 25,
      "outputs": [
        {
          "output_type": "stream",
          "text": [
            "[1, 2, 3, 3, 4, 4, 4, 4, 5, 6]\n"
          ],
          "name": "stdout"
        },
        {
          "output_type": "execute_result",
          "data": {
            "text/plain": [
              "10"
            ]
          },
          "metadata": {
            "tags": []
          },
          "execution_count": 25
        }
      ]
    },
    {
      "cell_type": "code",
      "metadata": {
        "id": "cOPlajPqWJNw",
        "colab_type": "code",
        "colab": {
          "base_uri": "https://localhost:8080/",
          "height": 51
        },
        "outputId": "cc46a21e-27cb-487a-9db8-5240f4f6fb6b"
      },
      "source": [
        "x = \"Hello, world\"\n",
        "\n",
        "print(x)\n",
        "print(len(x))\n"
      ],
      "execution_count": 27,
      "outputs": [
        {
          "output_type": "stream",
          "text": [
            "Hello, world\n",
            "12\n"
          ],
          "name": "stdout"
        }
      ]
    },
    {
      "cell_type": "markdown",
      "metadata": {
        "id": "a8xKJGg8Wa0O",
        "colab_type": "text"
      },
      "source": [
        "# Penggabungan (+) dan Replikasi (*)"
      ]
    },
    {
      "cell_type": "code",
      "metadata": {
        "id": "l6hS-haTWilP",
        "colab_type": "code",
        "colab": {
          "base_uri": "https://localhost:8080/",
          "height": 34
        },
        "outputId": "8a5416c2-e6cc-4d04-cba6-0ab859302d1d"
      },
      "source": [
        "[1, 2, 3,] + ['A', 'B', 'C']\n",
        "\n",
        "# + menggabungkan isi variabel list"
      ],
      "execution_count": 28,
      "outputs": [
        {
          "output_type": "execute_result",
          "data": {
            "text/plain": [
              "[1, 2, 3, 'A', 'B', 'C']"
            ]
          },
          "metadata": {
            "tags": []
          },
          "execution_count": 28
        }
      ]
    },
    {
      "cell_type": "code",
      "metadata": {
        "id": "JSEh6Dq4Wv_Q",
        "colab_type": "code",
        "colab": {
          "base_uri": "https://localhost:8080/",
          "height": 34
        },
        "outputId": "0f5cf5d8-70fd-4fa5-ed41-3db6fcec36ca"
      },
      "source": [
        "['X', 'Y', 'Z'] * 3\n",
        "\n",
        "# * mengalikan semua isi variabel list"
      ],
      "execution_count": 29,
      "outputs": [
        {
          "output_type": "execute_result",
          "data": {
            "text/plain": [
              "['X', 'Y', 'Z', 'X', 'Y', 'Z', 'X', 'Y', 'Z']"
            ]
          },
          "metadata": {
            "tags": []
          },
          "execution_count": 29
        }
      ]
    },
    {
      "cell_type": "code",
      "metadata": {
        "id": "2KuQ-ttzW9J_",
        "colab_type": "code",
        "colab": {
          "base_uri": "https://localhost:8080/",
          "height": 34
        },
        "outputId": "de3450e1-ef9e-4b6e-a63d-ccb57ebff552"
      },
      "source": [
        "spam = [1, 2, 3]\n",
        "spam = spam + ['A', 'B', 'C']\n",
        "spam"
      ],
      "execution_count": 30,
      "outputs": [
        {
          "output_type": "execute_result",
          "data": {
            "text/plain": [
              "[1, 2, 3, 'A', 'B', 'C']"
            ]
          },
          "metadata": {
            "tags": []
          },
          "execution_count": 30
        }
      ]
    },
    {
      "cell_type": "code",
      "metadata": {
        "id": "TdUMDo1pXHv_",
        "colab_type": "code",
        "colab": {
          "base_uri": "https://localhost:8080/",
          "height": 34
        },
        "outputId": "8905d5fb-ffd9-43d5-99f1-af1f7f732b38"
      },
      "source": [
        "arr = [0]*10\n",
        "len(arr)\n",
        "arr\n",
        "\n",
        "# fungsi pengali bisa untuk inisiasi list\n",
        "# arr merepresentasikan array, mirip list tapi datanya harus data numerik yang satu tipe\n",
        "# contohnya dalam satu array harus terdiri dari int atau float saja"
      ],
      "execution_count": 31,
      "outputs": [
        {
          "output_type": "execute_result",
          "data": {
            "text/plain": [
              "[0, 0, 0, 0, 0, 0, 0, 0, 0, 0]"
            ]
          },
          "metadata": {
            "tags": []
          },
          "execution_count": 31
        }
      ]
    },
    {
      "cell_type": "markdown",
      "metadata": {
        "id": "dusX05PpXgg_",
        "colab_type": "text"
      },
      "source": [
        "# Range()\n",
        "\n",
        "membuat deret bilangan dengan pola tertentu"
      ]
    },
    {
      "cell_type": "code",
      "metadata": {
        "id": "qi7OhVOwXt9v",
        "colab_type": "code",
        "colab": {
          "base_uri": "https://localhost:8080/",
          "height": 170
        },
        "outputId": "802c0727-3606-4609-e4cf-481efd37898e"
      },
      "source": [
        "for i in range(9):\n",
        "    print(i)\n",
        "\n",
        "# range 1 parameter\n",
        "# range() membuat deret bilangan dari 0, sebanyak 9 bilangan\n",
        "# maka output berupa angka 0-8\n",
        "\n"
      ],
      "execution_count": 35,
      "outputs": [
        {
          "output_type": "stream",
          "text": [
            "0\n",
            "1\n",
            "2\n",
            "3\n",
            "4\n",
            "5\n",
            "6\n",
            "7\n",
            "8\n"
          ],
          "name": "stdout"
        }
      ]
    },
    {
      "cell_type": "code",
      "metadata": {
        "id": "wWxCdQ1vYGrS",
        "colab_type": "code",
        "colab": {
          "base_uri": "https://localhost:8080/",
          "height": 119
        },
        "outputId": "8e93fc43-d330-4405-81a7-ea56089db517"
      },
      "source": [
        "for i in range(3, 9):\n",
        "    print(i)\n",
        "\n",
        "# range dua parameter\n",
        "# membuat deret bilangan yang dimulai dari n hingga sebelum p\n",
        "# maka outputnya deret 3-8"
      ],
      "execution_count": 36,
      "outputs": [
        {
          "output_type": "stream",
          "text": [
            "3\n",
            "4\n",
            "5\n",
            "6\n",
            "7\n",
            "8\n"
          ],
          "name": "stdout"
        }
      ]
    },
    {
      "cell_type": "code",
      "metadata": {
        "id": "H7ROTjU8YfYB",
        "colab_type": "code",
        "colab": {
          "base_uri": "https://localhost:8080/",
          "height": 34
        },
        "outputId": "c8ebfdf3-4088-4101-afcd-b2b1ca18054b"
      },
      "source": [
        "[_ for _ in range(1, 9, 2)]     # list comperhension\n",
        "\n",
        "# range 3 parameter\n",
        "# membuat deret bilangan dimulai dari n hingga sebelum p, dengan selisih q\n",
        "# maka outputnya 1, 3, 5, 7 (masing-masing ada selisih 2)"
      ],
      "execution_count": 37,
      "outputs": [
        {
          "output_type": "execute_result",
          "data": {
            "text/plain": [
              "[1, 3, 5, 7]"
            ]
          },
          "metadata": {
            "tags": []
          },
          "execution_count": 37
        }
      ]
    },
    {
      "cell_type": "markdown",
      "metadata": {
        "id": "pZeavagkY2ES",
        "colab_type": "text"
      },
      "source": [
        "# in and not in:\n",
        "\n",
        "untuk mengetahui nilai atau objek dalam list berupa nilai Boolean True atau False"
      ]
    },
    {
      "cell_type": "code",
      "metadata": {
        "id": "7CIs20vkZDiS",
        "colab_type": "code",
        "colab": {
          "base_uri": "https://localhost:8080/",
          "height": 34
        },
        "outputId": "d86b3dda-a033-45c4-a914-4b1990100ed8"
      },
      "source": [
        "'howdy' in ['hello', 'hi', 'howdy', 'heyas']\n",
        "\n",
        "# output True karena  ada howdy dalam anggota list "
      ],
      "execution_count": 38,
      "outputs": [
        {
          "output_type": "execute_result",
          "data": {
            "text/plain": [
              "True"
            ]
          },
          "metadata": {
            "tags": []
          },
          "execution_count": 38
        }
      ]
    },
    {
      "cell_type": "code",
      "metadata": {
        "id": "PEsMMDiTZOAz",
        "colab_type": "code",
        "colab": {
          "base_uri": "https://localhost:8080/",
          "height": 34
        },
        "outputId": "7bcbaa08-fb27-4e94-a156-90e374d187e8"
      },
      "source": [
        "spam = ['hello', 'hi', 'howdy', 'heyas']\n",
        "'cat' in spam\n",
        "\n",
        "# output False karena cat tidak ada dalam list "
      ],
      "execution_count": 40,
      "outputs": [
        {
          "output_type": "execute_result",
          "data": {
            "text/plain": [
              "False"
            ]
          },
          "metadata": {
            "tags": []
          },
          "execution_count": 40
        }
      ]
    },
    {
      "cell_type": "code",
      "metadata": {
        "id": "7tDX-FbFZ7B6",
        "colab_type": "code",
        "colab": {
          "base_uri": "https://localhost:8080/",
          "height": 34
        },
        "outputId": "66f13bb9-13f6-40aa-994c-18d550b4ab64"
      },
      "source": [
        "'howdy' not in spam\n",
        "\n",
        "# output False karena howdy ada dalam list"
      ],
      "execution_count": 41,
      "outputs": [
        {
          "output_type": "execute_result",
          "data": {
            "text/plain": [
              "False"
            ]
          },
          "metadata": {
            "tags": []
          },
          "execution_count": 41
        }
      ]
    },
    {
      "cell_type": "code",
      "metadata": {
        "id": "W5XhlpkUaA3k",
        "colab_type": "code",
        "colab": {
          "base_uri": "https://localhost:8080/",
          "height": 34
        },
        "outputId": "d0d4ac98-8d31-4f95-c516-2b500cce43cb"
      },
      "source": [
        "'cat' not in spam\n",
        "\n",
        "# output True karena cat tidak ada dalam list "
      ],
      "execution_count": 42,
      "outputs": [
        {
          "output_type": "execute_result",
          "data": {
            "text/plain": [
              "True"
            ]
          },
          "metadata": {
            "tags": []
          },
          "execution_count": 42
        }
      ]
    },
    {
      "cell_type": "markdown",
      "metadata": {
        "id": "6B1phxuCbr2N",
        "colab_type": "text"
      },
      "source": [
        "# Assignment untuk lebih dari 1 variabel sekaligus"
      ]
    },
    {
      "cell_type": "code",
      "metadata": {
        "id": "7u90UieRb3bb",
        "colab_type": "code",
        "colab": {}
      },
      "source": [
        "cat = ['fat', 'orange', 'loud']\n",
        "size = cat[0]\n",
        "color = cat[1]\n",
        "disposition = cat[2]\n",
        "\n",
        "# masih belum ngerti ???"
      ],
      "execution_count": 44,
      "outputs": []
    },
    {
      "cell_type": "code",
      "metadata": {
        "id": "daofd_Y9cQYg",
        "colab_type": "code",
        "colab": {}
      },
      "source": [
        "cat = ['fat', 'orange', 'loud'] # From list\n",
        "size, color, disposition = cat\n",
        "cat = ('fat', 'orange', 'loud') # From Tuples\n",
        "size, color, disposition = cat\n",
        "\n",
        "# masih belum ngerti ???"
      ],
      "execution_count": 46,
      "outputs": []
    },
    {
      "cell_type": "code",
      "metadata": {
        "id": "rNby_6d8ctUM",
        "colab_type": "code",
        "colab": {
          "base_uri": "https://localhost:8080/",
          "height": 51
        },
        "outputId": "f21b3ff9-0120-4700-b79f-b4d00fe07216"
      },
      "source": [
        "a, b = 'Alice', 'Bob'\n",
        "a, b = b, a\n",
        "print(a)\n",
        "print(b)\n",
        "\n",
        "# assignment multi variabel menukar nilai a = Alice menjadi Bob dan sebaliknya"
      ],
      "execution_count": 47,
      "outputs": [
        {
          "output_type": "stream",
          "text": [
            "Bob\n",
            "Alice\n"
          ],
          "name": "stdout"
        }
      ]
    },
    {
      "cell_type": "markdown",
      "metadata": {
        "id": "dzWun6q4dO2X",
        "colab_type": "text"
      },
      "source": [
        "# Sort:\n",
        "untuk mengurutkan list"
      ]
    },
    {
      "cell_type": "code",
      "metadata": {
        "id": "HqTgs_xudVKn",
        "colab_type": "code",
        "colab": {
          "base_uri": "https://localhost:8080/",
          "height": 34
        },
        "outputId": "02a358cf-9e24-4036-d414-0653898fe0b7"
      },
      "source": [
        "x = [2, 5, 3.14, 1, -7]\n",
        "x.sort()\n",
        "x\n",
        "\n",
        "# sort() mengurutkan list dari besar ke kecil "
      ],
      "execution_count": 48,
      "outputs": [
        {
          "output_type": "execute_result",
          "data": {
            "text/plain": [
              "[-7, 1, 2, 3.14, 5]"
            ]
          },
          "metadata": {
            "tags": []
          },
          "execution_count": 48
        }
      ]
    },
    {
      "cell_type": "code",
      "metadata": {
        "id": "fVvFChX8dhQ_",
        "colab_type": "code",
        "colab": {
          "base_uri": "https://localhost:8080/",
          "height": 34
        },
        "outputId": "7dd7346b-2d87-49f3-ecba-167f8e918fd8"
      },
      "source": [
        "y = ['ants', 'cats', 'dogs', 'badgers', 'elephatns']\n",
        "y.sort()\n",
        "y\n",
        "\n",
        "# sort mengurutkan list secara alfabetis "
      ],
      "execution_count": 49,
      "outputs": [
        {
          "output_type": "execute_result",
          "data": {
            "text/plain": [
              "['ants', 'badgers', 'cats', 'dogs', 'elephatns']"
            ]
          },
          "metadata": {
            "tags": []
          },
          "execution_count": 49
        }
      ]
    },
    {
      "cell_type": "markdown",
      "metadata": {
        "id": "76Etcu5idz66",
        "colab_type": "text"
      },
      "source": [
        "**reverse=True:**\n",
        "membalik urutan list"
      ]
    },
    {
      "cell_type": "code",
      "metadata": {
        "id": "PYNOUdaaeAaL",
        "colab_type": "code",
        "colab": {
          "base_uri": "https://localhost:8080/",
          "height": 34
        },
        "outputId": "a24c6194-a297-4e49-99f5-759d47ba9e25"
      },
      "source": [
        "y.sort(reverse=True)\n",
        "y\n",
        "\n",
        "# urutan list terbalik secara alfabetis"
      ],
      "execution_count": 50,
      "outputs": [
        {
          "output_type": "execute_result",
          "data": {
            "text/plain": [
              "['elephatns', 'dogs', 'cats', 'badgers', 'ants']"
            ]
          },
          "metadata": {
            "tags": []
          },
          "execution_count": 50
        }
      ]
    },
    {
      "cell_type": "code",
      "metadata": {
        "id": "YDRRO3DoejL4",
        "colab_type": "code",
        "colab": {
          "base_uri": "https://localhost:8080/",
          "height": 180
        },
        "outputId": "2d7d9305-60ea-40a6-8b30-314cf64bf6be"
      },
      "source": [
        "z = [1, 2, 3, 4, 'Alix', 'Jean']\n",
        "z.sort()\n",
        "\n",
        "# sort() tidak dapat mengurutkan list yang memiliki angka dan string sekaligus"
      ],
      "execution_count": 51,
      "outputs": [
        {
          "output_type": "error",
          "ename": "TypeError",
          "evalue": "ignored",
          "traceback": [
            "\u001b[0;31m---------------------------------------------------------------------------\u001b[0m",
            "\u001b[0;31mTypeError\u001b[0m                                 Traceback (most recent call last)",
            "\u001b[0;32m<ipython-input-51-05792a942413>\u001b[0m in \u001b[0;36m<module>\u001b[0;34m()\u001b[0m\n\u001b[1;32m      1\u001b[0m \u001b[0mz\u001b[0m \u001b[0;34m=\u001b[0m \u001b[0;34m[\u001b[0m\u001b[0;36m1\u001b[0m\u001b[0;34m,\u001b[0m \u001b[0;36m2\u001b[0m\u001b[0;34m,\u001b[0m \u001b[0;36m3\u001b[0m\u001b[0;34m,\u001b[0m \u001b[0;36m4\u001b[0m\u001b[0;34m,\u001b[0m \u001b[0;34m'Alix'\u001b[0m\u001b[0;34m,\u001b[0m \u001b[0;34m'Jean'\u001b[0m\u001b[0;34m]\u001b[0m\u001b[0;34m\u001b[0m\u001b[0;34m\u001b[0m\u001b[0m\n\u001b[0;32m----> 2\u001b[0;31m \u001b[0mz\u001b[0m\u001b[0;34m.\u001b[0m\u001b[0msort\u001b[0m\u001b[0;34m(\u001b[0m\u001b[0;34m)\u001b[0m\u001b[0;34m\u001b[0m\u001b[0;34m\u001b[0m\u001b[0m\n\u001b[0m",
            "\u001b[0;31mTypeError\u001b[0m: '<' not supported between instances of 'str' and 'int'"
          ]
        }
      ]
    },
    {
      "cell_type": "code",
      "metadata": {
        "id": "CDzEGVYBe1qR",
        "colab_type": "code",
        "colab": {
          "base_uri": "https://localhost:8080/",
          "height": 34
        },
        "outputId": "ffcc9205-fd86-4902-fdbb-5ac32d4bade4"
      },
      "source": [
        "m = ['Alice', 'ants', 'Bob', 'badgers', 'CAROL', 'cats']\n",
        "m.sort()\n",
        "m\n",
        "\n",
        "# sort() menggubnakan urutan ASCII sehingga huruf kapital akan ditulis\n",
        "# lebih dulu dibandingkan huruf kecil "
      ],
      "execution_count": 52,
      "outputs": [
        {
          "output_type": "execute_result",
          "data": {
            "text/plain": [
              "['Alice', 'Bob', 'CAROL', 'ants', 'badgers', 'cats']"
            ]
          },
          "metadata": {
            "tags": []
          },
          "execution_count": 52
        }
      ]
    },
    {
      "cell_type": "markdown",
      "metadata": {
        "id": "iTgazGgXfQfD",
        "colab_type": "text"
      },
      "source": [
        "**str.lower:**\n",
        "\n",
        "memganggap semua objek sebagai huruf kecil "
      ]
    },
    {
      "cell_type": "code",
      "metadata": {
        "id": "AS12lVV-fiuR",
        "colab_type": "code",
        "colab": {
          "base_uri": "https://localhost:8080/",
          "height": 34
        },
        "outputId": "06f28737-e14a-40b0-9183-69838647cff2"
      },
      "source": [
        "spam =['a', 'z', 'A', 'Z']\n",
        "spam.sort(key=str.lower)\n",
        "spam\n",
        "\n",
        "# key=str.lower menganggap semua objek sebagai huruf kecil sehingga memudahkan\n",
        "# dalam pengurutan alfabetis data yang hurufnya besar dan kecil "
      ],
      "execution_count": 53,
      "outputs": [
        {
          "output_type": "execute_result",
          "data": {
            "text/plain": [
              "['a', 'A', 'z', 'Z']"
            ]
          },
          "metadata": {
            "tags": []
          },
          "execution_count": 53
        }
      ]
    },
    {
      "cell_type": "markdown",
      "metadata": {
        "id": "5vDFjhq7gV-z",
        "colab_type": "text"
      },
      "source": [
        "# **Manipulasi String**"
      ]
    },
    {
      "cell_type": "markdown",
      "metadata": {
        "id": "eaomFV8igawM",
        "colab_type": "text"
      },
      "source": [
        "# String Literals;\n",
        "\n",
        "membantu memisahkan karakter yang menggunakan tanda ptik (') dalam sebuah string "
      ]
    },
    {
      "cell_type": "code",
      "metadata": {
        "id": "iYZiC74tgnvs",
        "colab_type": "code",
        "colab": {
          "base_uri": "https://localhost:8080/",
          "height": 34
        },
        "outputId": "c0e6166a-9c7d-4b6f-dd0d-ddab96c5d86a"
      },
      "source": [
        "st = \"That's Alice's cat\"\n",
        "st\n",
        "\n",
        "# pengunaan \" untuk membedakan bahwa ' digunakan dalam string sebagai \n",
        "# bagian dari kata"
      ],
      "execution_count": 56,
      "outputs": [
        {
          "output_type": "execute_result",
          "data": {
            "text/plain": [
              "\"That's Alice's cat\""
            ]
          },
          "metadata": {
            "tags": []
          },
          "execution_count": 56
        }
      ]
    },
    {
      "cell_type": "markdown",
      "metadata": {
        "id": "TXDsIi7NhKhj",
        "colab_type": "text"
      },
      "source": [
        "**Escape Character (\\\\)**\n",
        "\n",
        "berguna untuk memasukkan karakter tertentu yang tidak bisa dimasukkan dalam string pada umumnya "
      ]
    },
    {
      "cell_type": "code",
      "metadata": {
        "id": "vZNiQQMnhZch",
        "colab_type": "code",
        "colab": {
          "base_uri": "https://localhost:8080/",
          "height": 34
        },
        "outputId": "8ae6feec-b196-4217-a21f-a157c1832da4"
      },
      "source": [
        "st = 'Say hi to Bob\\'s mother'\n",
        "st\n",
        "\n",
        "# penggunaan \\' memungkinkan ' dikenali sebagai bagian dari objek \n",
        "# meskipun ' sudah digunakan untuk mengawali dan menutup string"
      ],
      "execution_count": 58,
      "outputs": [
        {
          "output_type": "execute_result",
          "data": {
            "text/plain": [
              "\"Say hi to Bob's mother\""
            ]
          },
          "metadata": {
            "tags": []
          },
          "execution_count": 58
        }
      ]
    },
    {
      "cell_type": "markdown",
      "metadata": {
        "id": "i-PVzBJHhv70",
        "colab_type": "text"
      },
      "source": [
        "**Contoh escape characters:**\n",
        "\n",
        "\n",
        "\n",
        "*   \\\\'\n",
        "*   \\\\\"\n",
        "*   \\t = tab\n",
        "*   \\n = newline\n",
        "*   \\\\\\\n",
        "\n",
        "\n"
      ]
    },
    {
      "cell_type": "code",
      "metadata": {
        "id": "z0xr4tRhiIKr",
        "colab_type": "code",
        "colab": {
          "base_uri": "https://localhost:8080/",
          "height": 163
        },
        "outputId": "20844a23-a593-4fe7-e3cd-befac7d7d484"
      },
      "source": [
        "print(\"Hello there!\\nHow are you?\\nI\\'m doing fine\")\n",
        "\n",
        "# \\n memunculkan garis baru\n"
      ],
      "execution_count": 64,
      "outputs": [
        {
          "output_type": "error",
          "ename": "TypeError",
          "evalue": "ignored",
          "traceback": [
            "\u001b[0;31m---------------------------------------------------------------------------\u001b[0m",
            "\u001b[0;31mTypeError\u001b[0m                                 Traceback (most recent call last)",
            "\u001b[0;32m<ipython-input-64-4b8608aa648e>\u001b[0m in \u001b[0;36m<module>\u001b[0;34m()\u001b[0m\n\u001b[0;32m----> 1\u001b[0;31m \u001b[0mprint\u001b[0m\u001b[0;34m(\u001b[0m\u001b[0;34m\"Hello there!\\nHow are you?\\nI\\'m doing fine\"\u001b[0m\u001b[0;34m)\u001b[0m\u001b[0;34m\u001b[0m\u001b[0;34m\u001b[0m\u001b[0m\n\u001b[0m",
            "\u001b[0;31mTypeError\u001b[0m: 'str' object is not callable"
          ]
        }
      ]
    },
    {
      "cell_type": "markdown",
      "metadata": {
        "id": "nRvJKby4jJ0I",
        "colab_type": "text"
      },
      "source": [
        "**multi_line dan \"\"\"**"
      ]
    },
    {
      "cell_type": "code",
      "metadata": {
        "id": "zB1piMkNire6",
        "colab_type": "code",
        "colab": {
          "base_uri": "https://localhost:8080/",
          "height": 197
        },
        "outputId": "8547ffb4-e7bc-4317-fff8-988abdbbb20a"
      },
      "source": [
        "multi_line = \"\"\"Hello there!\n",
        "How are you?\n",
        "I'm fine.\"\"\"\n",
        "print(multi_line)\n",
        "\n",
        "# \"\"\" memungkinkan untuk menyimpan String lebih dari satu baris"
      ],
      "execution_count": 65,
      "outputs": [
        {
          "output_type": "error",
          "ename": "TypeError",
          "evalue": "ignored",
          "traceback": [
            "\u001b[0;31m---------------------------------------------------------------------------\u001b[0m",
            "\u001b[0;31mTypeError\u001b[0m                                 Traceback (most recent call last)",
            "\u001b[0;32m<ipython-input-65-a61a4ba67a6c>\u001b[0m in \u001b[0;36m<module>\u001b[0;34m()\u001b[0m\n\u001b[1;32m      2\u001b[0m \u001b[0mHow\u001b[0m \u001b[0mare\u001b[0m \u001b[0myou\u001b[0m\u001b[0;31m?\u001b[0m\u001b[0;34m\u001b[0m\u001b[0;34m\u001b[0m\u001b[0m\n\u001b[1;32m      3\u001b[0m I'm fine.\"\"\"\n\u001b[0;32m----> 4\u001b[0;31m \u001b[0mprint\u001b[0m\u001b[0;34m(\u001b[0m\u001b[0mmulti_line\u001b[0m\u001b[0;34m)\u001b[0m\u001b[0;34m\u001b[0m\u001b[0;34m\u001b[0m\u001b[0m\n\u001b[0m",
            "\u001b[0;31mTypeError\u001b[0m: 'str' object is not callable"
          ]
        }
      ]
    },
    {
      "cell_type": "markdown",
      "metadata": {
        "id": "oNMnpKwgjO1x",
        "colab_type": "text"
      },
      "source": [
        "# Raw Strings\n",
        "\n",
        "memasukkan string sesuai dengan apapun input yang diberikan. Digunakan untuk regex (regular expression) dan implementasi yang bergantung pada backlash. \n",
        "\n",
        "menggunakan huruf r sebagai pembukan string "
      ]
    },
    {
      "cell_type": "code",
      "metadata": {
        "id": "ZEkLKXhQj9Mb",
        "colab_type": "code",
        "colab": {
          "base_uri": "https://localhost:8080/",
          "height": 163
        },
        "outputId": "9133f2a4-262d-43a8-bfdb-74d782ff79ec"
      },
      "source": [
        "print(r'That is Carol\\'s cat')\n",
        "\n",
        "# berkat raw strings (r), backlash akan muncul pada output"
      ],
      "execution_count": 66,
      "outputs": [
        {
          "output_type": "error",
          "ename": "TypeError",
          "evalue": "ignored",
          "traceback": [
            "\u001b[0;31m---------------------------------------------------------------------------\u001b[0m",
            "\u001b[0;31mTypeError\u001b[0m                                 Traceback (most recent call last)",
            "\u001b[0;32m<ipython-input-66-9aa779dce386>\u001b[0m in \u001b[0;36m<module>\u001b[0;34m()\u001b[0m\n\u001b[0;32m----> 1\u001b[0;31m \u001b[0mprint\u001b[0m\u001b[0;34m(\u001b[0m\u001b[0;34mr'That is Carol\\'s cat'\u001b[0m\u001b[0;34m)\u001b[0m\u001b[0;34m\u001b[0m\u001b[0;34m\u001b[0m\u001b[0m\n\u001b[0m",
            "\u001b[0;31mTypeError\u001b[0m: 'str' object is not callable"
          ]
        }
      ]
    }
  ]
}