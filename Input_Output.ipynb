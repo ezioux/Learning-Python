{
  "nbformat": 4,
  "nbformat_minor": 0,
  "metadata": {
    "colab": {
      "name": "Input/Output.ipynb",
      "provenance": [],
      "authorship_tag": "ABX9TyNAXtkn/M/usaYA2OzBfLyf",
      "include_colab_link": true
    },
    "kernelspec": {
      "name": "python3",
      "display_name": "Python 3"
    }
  },
  "cells": [
    {
      "cell_type": "markdown",
      "metadata": {
        "id": "view-in-github",
        "colab_type": "text"
      },
      "source": [
        "<a href=\"https://colab.research.google.com/github/ezioux/Learning-Python/blob/Input%2FOutput/Input_Output.ipynb\" target=\"_parent\"><img src=\"https://colab.research.google.com/assets/colab-badge.svg\" alt=\"Open In Colab\"/></a>"
      ]
    },
    {
      "cell_type": "markdown",
      "metadata": {
        "id": "pXEUj0NTsgAr",
        "colab_type": "text"
      },
      "source": [
        "Variabel adalah sebuah tempat di memori komputer untuk menyimpan nilai dengan data tertentu.\n",
        "\n",
        "\"=\" digunakan untuk memberikan nilai pada variabel\n",
        "\n",
        "x = 1\n",
        "x adalah variabel\n",
        "1 adalah nilai "
      ]
    },
    {
      "cell_type": "markdown",
      "metadata": {
        "id": "4qggGcaNsyO8",
        "colab_type": "text"
      },
      "source": [
        "**Output**"
      ]
    },
    {
      "cell_type": "code",
      "metadata": {
        "id": "9fQn-Y5Us08H",
        "colab_type": "code",
        "outputId": "fe036a7d-eb51-4694-8b45-3d2e30eae265",
        "colab": {
          "base_uri": "https://localhost:8080/",
          "height": 34
        }
      },
      "source": [
        "print(\"Hello World!\")\n",
        "# Print adalah outpit langsung ke layar"
      ],
      "execution_count": 0,
      "outputs": [
        {
          "output_type": "stream",
          "text": [
            "Hello World!\n"
          ],
          "name": "stdout"
        }
      ]
    },
    {
      "cell_type": "code",
      "metadata": {
        "id": "K8OxLfe4s_AX",
        "colab_type": "code",
        "outputId": "03b40de4-2e45-428d-9ab1-b97d4cab0136",
        "colab": {
          "base_uri": "https://localhost:8080/",
          "height": 34
        }
      },
      "source": [
        "a = 5\n",
        "print('The value of a is', a)\n",
        "# Memasukkan nilai variabel pada string dengan cara \n",
        "# menggabungkan variabel pada statement print"
      ],
      "execution_count": 0,
      "outputs": [
        {
          "output_type": "stream",
          "text": [
            "The value of a is 5\n"
          ],
          "name": "stdout"
        }
      ]
    },
    {
      "cell_type": "code",
      "metadata": {
        "id": "-YlVSZfbtIZQ",
        "colab_type": "code",
        "outputId": "cf5398a9-f6e4-4bbe-c8ef-a50d0e235970",
        "colab": {
          "base_uri": "https://localhost:8080/",
          "height": 34
        }
      },
      "source": [
        "print('hello {}'.format('kakak'))\n",
        "\n",
        "# Memasukkan nilai variabel pada string dengan cara \n",
        "# memasukkan format string"
      ],
      "execution_count": 0,
      "outputs": [
        {
          "output_type": "stream",
          "text": [
            "hello kakak\n"
          ],
          "name": "stdout"
        }
      ]
    },
    {
      "cell_type": "code",
      "metadata": {
        "id": "OpfpRP4Yt5tY",
        "colab_type": "code",
        "outputId": "f872ff21-5564-4b74-fe4c-8de02b1f54b5",
        "colab": {
          "base_uri": "https://localhost:8080/",
          "height": 34
        }
      },
      "source": [
        "name = \"Ezi\"\n",
        "print(\"Hello, %s!\" % name)\n",
        "\n",
        "# Menggunakan oprator % yang ditambah argumen specifiers %d atau %s"
      ],
      "execution_count": 0,
      "outputs": [
        {
          "output_type": "stream",
          "text": [
            "Hello, Ezi!\n"
          ],
          "name": "stdout"
        }
      ]
    },
    {
      "cell_type": "code",
      "metadata": {
        "id": "9eFf3EpKuOOl",
        "colab_type": "code",
        "outputId": "19366fc5-646f-436f-f64e-49b3b3b57bd5",
        "colab": {
          "base_uri": "https://localhost:8080/",
          "height": 34
        }
      },
      "source": [
        "name = \"John\"\n",
        "age = 15\n",
        "print(\"%s is %d years old.\" % (name, age))\n",
        "\n",
        "# Menambahkan string (teks) dan integer\n",
        "# specifier % dibedakan menjadi %s dan %d\n",
        "# jika ada 2 variabel, dimasukkan dalam kurung dan dipisah koma (name,age) "
      ],
      "execution_count": 0,
      "outputs": [
        {
          "output_type": "stream",
          "text": [
            "John is 15 years old.\n"
          ],
          "name": "stdout"
        }
      ]
    },
    {
      "cell_type": "code",
      "metadata": {
        "id": "mXx-LWT4uvZ7",
        "colab_type": "code",
        "outputId": "e8a467d9-6e83-4bd7-bf31-0fe8b1497691",
        "colab": {
          "base_uri": "https://localhost:8080/",
          "height": 34
        }
      },
      "source": [
        "mylist = [1,2,3]\n",
        "print(\"A list: %s\" % mylist)\n",
        "\n",
        "# Menambahkan variabel list "
      ],
      "execution_count": 0,
      "outputs": [
        {
          "output_type": "stream",
          "text": [
            "A list: [1, 2, 3]\n"
          ],
          "name": "stdout"
        }
      ]
    },
    {
      "cell_type": "code",
      "metadata": {
        "id": "Pe2FlYSlvDRE",
        "colab_type": "code",
        "colab": {}
      },
      "source": [
        "# Argumen specifiers umum\n",
        "%s - string\n",
        "%d - integers\n",
        "%f - pecahan\n",
        "%.<digit>f - pecahan dengan sejumlah digit angka di belakang koma\n",
        "%x/%X - bil bulat dalam Hexa (huruf kecil/besar?)"
      ],
      "execution_count": 0,
      "outputs": []
    },
    {
      "cell_type": "code",
      "metadata": {
        "id": "fv7ubNs5vaJv",
        "colab_type": "code",
        "outputId": "bb2f1afd-976b-4a13-bf8c-f65fe6b1bce4",
        "colab": {
          "base_uri": "https://localhost:8080/",
          "height": 34
        }
      },
      "source": [
        "a, b = 10, 11\n",
        "a, b\n",
        "print('a: %x and b: %X' % (a, b))\n",
        "\n",
        "#???"
      ],
      "execution_count": 0,
      "outputs": [
        {
          "output_type": "stream",
          "text": [
            "a: a and b: B\n"
          ],
          "name": "stdout"
        }
      ]
    },
    {
      "cell_type": "markdown",
      "metadata": {
        "id": "nh5vVvjwfiB4",
        "colab_type": "text"
      },
      "source": [
        "**Input**"
      ]
    },
    {
      "cell_type": "code",
      "metadata": {
        "id": "xmcFyn5xdMIZ",
        "colab_type": "code",
        "colab": {
          "base_uri": "https://localhost:8080/",
          "height": 34
        },
        "outputId": "4ada36cd-0eab-43da-f239-890ec9242ae7"
      },
      "source": [
        "num = input('Enter a number: ')\n",
        "# Fungsi input: input(prompt)\n",
        "# ... sebelum (=) adalah variabel yang ingin ditampilkan\n",
        "# num = input('Enter a number: ') artinya input berupa nomor dan \n",
        "# prompt berupa ingin memasukkan nomor apa "
      ],
      "execution_count": 3,
      "outputs": [
        {
          "output_type": "stream",
          "text": [
            "Enter a number: 10\n"
          ],
          "name": "stdout"
        }
      ]
    },
    {
      "cell_type": "code",
      "metadata": {
        "id": "KiK2bfsdd5Rw",
        "colab_type": "code",
        "colab": {
          "base_uri": "https://localhost:8080/",
          "height": 34
        },
        "outputId": "dbaf1727-06d2-4cbc-c898-48a4ffc7517a"
      },
      "source": [
        "num\n",
        "# Setelah command num = imput('Enter a number: '), maka masukkan nomor yang dimaksud"
      ],
      "execution_count": 4,
      "outputs": [
        {
          "output_type": "execute_result",
          "data": {
            "text/plain": [
              "'10'"
            ]
          },
          "metadata": {
            "tags": []
          },
          "execution_count": 4
        }
      ]
    },
    {
      "cell_type": "code",
      "metadata": {
        "id": "Q86MkJmKfzsy",
        "colab_type": "code",
        "colab": {
          "base_uri": "https://localhost:8080/",
          "height": 34
        },
        "outputId": "9a2c9589-cd6d-4cac-d938-f7d06cd215db"
      },
      "source": [
        "int(num)\n",
        "# Fungsi int membuat nomor menjadi integer"
      ],
      "execution_count": 5,
      "outputs": [
        {
          "output_type": "execute_result",
          "data": {
            "text/plain": [
              "10"
            ]
          },
          "metadata": {
            "tags": []
          },
          "execution_count": 5
        }
      ]
    },
    {
      "cell_type": "code",
      "metadata": {
        "id": "t6Y9TFfMf4ha",
        "colab_type": "code",
        "colab": {
          "base_uri": "https://localhost:8080/",
          "height": 34
        },
        "outputId": "47d61dfd-e79e-4035-e7c4-814cca9a7946"
      },
      "source": [
        "float(num)\n",
        "# Fungsi float membuat nomor menjadi desimal"
      ],
      "execution_count": 6,
      "outputs": [
        {
          "output_type": "execute_result",
          "data": {
            "text/plain": [
              "10.0"
            ]
          },
          "metadata": {
            "tags": []
          },
          "execution_count": 6
        }
      ]
    },
    {
      "cell_type": "code",
      "metadata": {
        "id": "1E633fiEf_P8",
        "colab_type": "code",
        "colab": {
          "base_uri": "https://localhost:8080/",
          "height": 163
        },
        "outputId": "ed7f78c4-43ce-44e8-9a08-ba35b600589a"
      },
      "source": [
        "int('2+3')\n",
        "# Fungsi int tidak bisa digunakan untuk fungsi berhitung"
      ],
      "execution_count": 7,
      "outputs": [
        {
          "output_type": "error",
          "ename": "ValueError",
          "evalue": "ignored",
          "traceback": [
            "\u001b[0;31m---------------------------------------------------------------------------\u001b[0m",
            "\u001b[0;31mValueError\u001b[0m                                Traceback (most recent call last)",
            "\u001b[0;32m<ipython-input-7-7dc57dc68b93>\u001b[0m in \u001b[0;36m<module>\u001b[0;34m()\u001b[0m\n\u001b[0;32m----> 1\u001b[0;31m \u001b[0mint\u001b[0m\u001b[0;34m(\u001b[0m\u001b[0;34m'2+3'\u001b[0m\u001b[0;34m)\u001b[0m\u001b[0;34m\u001b[0m\u001b[0;34m\u001b[0m\u001b[0m\n\u001b[0m",
            "\u001b[0;31mValueError\u001b[0m: invalid literal for int() with base 10: '2+3'"
          ]
        }
      ]
    },
    {
      "cell_type": "code",
      "metadata": {
        "id": "fyE6rDv8gG_p",
        "colab_type": "code",
        "colab": {
          "base_uri": "https://localhost:8080/",
          "height": 34
        },
        "outputId": "a80ea260-7d2c-4ff5-e997-0a21df40642f"
      },
      "source": [
        "eval('2+3')\n",
        "# Fungsi eval digunakan untuk berhitung"
      ],
      "execution_count": 8,
      "outputs": [
        {
          "output_type": "execute_result",
          "data": {
            "text/plain": [
              "5"
            ]
          },
          "metadata": {
            "tags": []
          },
          "execution_count": 8
        }
      ]
    },
    {
      "cell_type": "markdown",
      "metadata": {
        "id": "iQsHbDrRgSEC",
        "colab_type": "text"
      },
      "source": [
        "# Command-line arguments\n",
        "\n",
        "adalah skrip berisi deretan kode yang disimpan dalam berkas\n",
        "\n",
        "Melalui fungsi input ini, kita bisa memanggil skrip tersebut untuk dimasukkan dalam pekerjaan yang sedang dikerjakan"
      ]
    },
    {
      "cell_type": "code",
      "metadata": {
        "id": "cjKWic6mgpgq",
        "colab_type": "code",
        "colab": {
          "base_uri": "https://localhost:8080/",
          "height": 129
        },
        "outputId": "f5706dcc-8f62-40d1-84a9-d4fe40d8ed30"
      },
      "source": [
        "$ pyhton test.py arg1 arg2 arg3\n",
        "# Kode gagal karena skrip berupa modul sys belum diimport\n",
        "# .py adalah format file python"
      ],
      "execution_count": 9,
      "outputs": [
        {
          "output_type": "error",
          "ename": "SyntaxError",
          "evalue": "ignored",
          "traceback": [
            "\u001b[0;36m  File \u001b[0;32m\"<ipython-input-9-3a3fe5d40f31>\"\u001b[0;36m, line \u001b[0;32m1\u001b[0m\n\u001b[0;31m    $ pyhton test.py arg1 arg2 arg3\u001b[0m\n\u001b[0m    ^\u001b[0m\n\u001b[0;31mSyntaxError\u001b[0m\u001b[0;31m:\u001b[0m invalid syntax\n"
          ]
        }
      ]
    },
    {
      "cell_type": "code",
      "metadata": {
        "id": "7r8Egju4g6fa",
        "colab_type": "code",
        "colab": {
          "base_uri": "https://localhost:8080/",
          "height": 88
        },
        "outputId": "4ee72800-f6f7-4393-8b53-cd883817254c"
      },
      "source": [
        "import sys\n",
        "print('Number of arguments:', len(sys.argv), 'arguments.')\n",
        "print('Argument List:', str(sys.argv))\n",
        "print(sys.argv[1])\n",
        "# argv adalah fungsi untuk serangkaian argumen dalam command line\n",
        "# contohnya: <command> <argument1> <argument2> <argument3>\n",
        "# git push origin master\n",
        "# maka: git = command\n",
        "# push = argument1\n",
        "# origin = argument2\n",
        "# master = argument3\n",
        "# argv = [\"push\", \"origin\", \"master\"]\n",
        "\n",
        "# Cara eksekusi argv pada python script:\n",
        "# phyton myScript.py\n",
        "#argv = [\"myScript.py\"]\n",
        "\n",
        "# lens(sys.argv) adalah fungsi untuk mengetahui banyaknya argumen\n",
        "# yang akan ditampung\n",
        "\n",
        "# maka, print(sys.argv[1]), akan men-slice argumen pertama pada command line"
      ],
      "execution_count": 16,
      "outputs": [
        {
          "output_type": "stream",
          "text": [
            "Number of arguments: 3 arguments.\n",
            "Argument List: ['/usr/local/lib/python3.6/dist-packages/ipykernel_launcher.py', '-f', '/root/.local/share/jupyter/runtime/kernel-44472800-cb43-463d-bcb9-b862231cdd23.json']\n",
            "-f\n"
          ],
          "name": "stdout"
        }
      ]
    }
  ]
}