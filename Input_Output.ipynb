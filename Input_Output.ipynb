{
  "nbformat": 4,
  "nbformat_minor": 0,
  "metadata": {
    "colab": {
      "name": "Input/Output.ipynb",
      "provenance": [],
      "authorship_tag": "ABX9TyP2Il8BN3uSBYNbHytMpc7p",
      "include_colab_link": true
    },
    "kernelspec": {
      "name": "python3",
      "display_name": "Python 3"
    }
  },
  "cells": [
    {
      "cell_type": "markdown",
      "metadata": {
        "id": "view-in-github",
        "colab_type": "text"
      },
      "source": [
        "<a href=\"https://colab.research.google.com/github/ezioux/Learning-Python/blob/Input%2FOutput/Input_Output.ipynb\" target=\"_parent\"><img src=\"https://colab.research.google.com/assets/colab-badge.svg\" alt=\"Open In Colab\"/></a>"
      ]
    },
    {
      "cell_type": "markdown",
      "metadata": {
        "id": "pXEUj0NTsgAr",
        "colab_type": "text"
      },
      "source": [
        "Variabel adalah sebuah tempat di memori komputer untuk menyimpan nilai dengan data tertentu.\n",
        "\n",
        "\"=\" digunakan untuk memberikan nilai pada variabel\n",
        "\n",
        "x = 1\n",
        "x adalah variabel\n",
        "1 adalah nilai "
      ]
    },
    {
      "cell_type": "markdown",
      "metadata": {
        "id": "4qggGcaNsyO8",
        "colab_type": "text"
      },
      "source": [
        "**Output**"
      ]
    },
    {
      "cell_type": "code",
      "metadata": {
        "id": "9fQn-Y5Us08H",
        "colab_type": "code",
        "outputId": "fe036a7d-eb51-4694-8b45-3d2e30eae265",
        "colab": {
          "base_uri": "https://localhost:8080/",
          "height": 34
        }
      },
      "source": [
        "print(\"Hello World!\")\n",
        "# Print adalah outpit langsung ke layar"
      ],
      "execution_count": 0,
      "outputs": [
        {
          "output_type": "stream",
          "text": [
            "Hello World!\n"
          ],
          "name": "stdout"
        }
      ]
    },
    {
      "cell_type": "code",
      "metadata": {
        "id": "K8OxLfe4s_AX",
        "colab_type": "code",
        "outputId": "03b40de4-2e45-428d-9ab1-b97d4cab0136",
        "colab": {
          "base_uri": "https://localhost:8080/",
          "height": 34
        }
      },
      "source": [
        "a = 5\n",
        "print('The value of a is', a)\n",
        "# Memasukkan nilai variabel pada string dengan cara \n",
        "# menggabungkan variabel pada statement print"
      ],
      "execution_count": 0,
      "outputs": [
        {
          "output_type": "stream",
          "text": [
            "The value of a is 5\n"
          ],
          "name": "stdout"
        }
      ]
    },
    {
      "cell_type": "code",
      "metadata": {
        "id": "-YlVSZfbtIZQ",
        "colab_type": "code",
        "outputId": "cf5398a9-f6e4-4bbe-c8ef-a50d0e235970",
        "colab": {
          "base_uri": "https://localhost:8080/",
          "height": 34
        }
      },
      "source": [
        "print('hello {}'.format('kakak'))\n",
        "\n",
        "# Memasukkan nilai variabel pada string dengan cara \n",
        "# memasukkan format string"
      ],
      "execution_count": 0,
      "outputs": [
        {
          "output_type": "stream",
          "text": [
            "hello kakak\n"
          ],
          "name": "stdout"
        }
      ]
    },
    {
      "cell_type": "code",
      "metadata": {
        "id": "OpfpRP4Yt5tY",
        "colab_type": "code",
        "outputId": "f872ff21-5564-4b74-fe4c-8de02b1f54b5",
        "colab": {
          "base_uri": "https://localhost:8080/",
          "height": 34
        }
      },
      "source": [
        "name = \"Ezi\"\n",
        "print(\"Hello, %s!\" % name)\n",
        "\n",
        "# Menggunakan oprator % yang ditambah argumen specifiers %d atau %s"
      ],
      "execution_count": 0,
      "outputs": [
        {
          "output_type": "stream",
          "text": [
            "Hello, Ezi!\n"
          ],
          "name": "stdout"
        }
      ]
    },
    {
      "cell_type": "code",
      "metadata": {
        "id": "9eFf3EpKuOOl",
        "colab_type": "code",
        "outputId": "19366fc5-646f-436f-f64e-49b3b3b57bd5",
        "colab": {
          "base_uri": "https://localhost:8080/",
          "height": 34
        }
      },
      "source": [
        "name = \"John\"\n",
        "age = 15\n",
        "print(\"%s is %d years old.\" % (name, age))\n",
        "\n",
        "# Menambahkan string (teks) dan integer\n",
        "# specifier % dibedakan menjadi %s dan %d\n",
        "# jika ada 2 variabel, dimasukkan dalam kurung dan dipisah koma (name,age) "
      ],
      "execution_count": 0,
      "outputs": [
        {
          "output_type": "stream",
          "text": [
            "John is 15 years old.\n"
          ],
          "name": "stdout"
        }
      ]
    },
    {
      "cell_type": "code",
      "metadata": {
        "id": "mXx-LWT4uvZ7",
        "colab_type": "code",
        "outputId": "e8a467d9-6e83-4bd7-bf31-0fe8b1497691",
        "colab": {
          "base_uri": "https://localhost:8080/",
          "height": 34
        }
      },
      "source": [
        "mylist = [1,2,3]\n",
        "print(\"A list: %s\" % mylist)\n",
        "\n",
        "# Menambahkan variabel list "
      ],
      "execution_count": 0,
      "outputs": [
        {
          "output_type": "stream",
          "text": [
            "A list: [1, 2, 3]\n"
          ],
          "name": "stdout"
        }
      ]
    },
    {
      "cell_type": "code",
      "metadata": {
        "id": "Pe2FlYSlvDRE",
        "colab_type": "code",
        "colab": {}
      },
      "source": [
        "# Argumen specifiers umum\n",
        "%s - string\n",
        "%d - integers\n",
        "%f - pecahan\n",
        "%.<digit>f - pecahan dengan sejumlah digit angka di belakang koma\n",
        "%x/%X - bil bulat dalam Hexa (huruf kecil/besar?)"
      ],
      "execution_count": 0,
      "outputs": []
    },
    {
      "cell_type": "code",
      "metadata": {
        "id": "fv7ubNs5vaJv",
        "colab_type": "code",
        "outputId": "bb2f1afd-976b-4a13-bf8c-f65fe6b1bce4",
        "colab": {
          "base_uri": "https://localhost:8080/",
          "height": 34
        }
      },
      "source": [
        "a, b = 10, 11\n",
        "a, b\n",
        "print('a: %x and b: %X' % (a, b))\n",
        "\n",
        "#???"
      ],
      "execution_count": 0,
      "outputs": [
        {
          "output_type": "stream",
          "text": [
            "a: a and b: B\n"
          ],
          "name": "stdout"
        }
      ]
    }
  ]
}